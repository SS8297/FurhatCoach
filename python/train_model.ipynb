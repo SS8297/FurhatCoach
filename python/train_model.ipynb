{
 "cells": [
  {
   "cell_type": "markdown",
   "metadata": {},
   "source": [
    "# Train Emotion Recognition\n",
    "ResMaskingNet which is available in PyFeat uses 142.9 million parameters with 74% accuracy.\n",
    "Human emotion detection only reaches 65+-5%, poor golden standard\n",
    "\n",
    "3-15 million"
   ]
  },
  {
   "cell_type": "code",
   "execution_count": 48,
   "metadata": {},
   "outputs": [],
   "source": [
    "import wandb\n",
    "import random\n",
    "from torch import nn\n",
    "import numpy as np\n",
    "from torch.utils.data import Dataset, DataLoader, random_split\n",
    "import pandas as pd\n",
    "import torch\n",
    "from sklearn.model_selection import train_test_split"
   ]
  },
  {
   "cell_type": "code",
   "execution_count": null,
   "metadata": {},
   "outputs": [],
   "source": [
    "WANDB_API_KEY = \"9ff9cdd1ffada991cc4f457217b7dfa6d0d7ce3b\"\n",
    "WANDB_NOTEBOOK_NAME = \"Train Emotion Recognition\"\n",
    "wandb.login()"
   ]
  },
  {
   "cell_type": "code",
   "execution_count": null,
   "metadata": {},
   "outputs": [],
   "source": [
    "wandb.init(\n",
    "    project = \"Furhat Coach\",\n",
    "\n",
    "    config = {\n",
    "        \"learning_rate\": 0.02,\n",
    "        \"architecture\": \"CNN\",\n",
    "        \"dataset\": \"CIFAR-100\",\n",
    "        \"epochs\": 10,\n",
    "    }\n",
    ")\n",
    "\n",
    "epochs = 10\n",
    "offset = random.random() / 5\n",
    "for epoch in range(2, epochs):\n",
    "    acc = 1 - 2 ** -epoch - random.random() / epoch - offset\n",
    "    loss = 2 ** -epoch + random.random() / epoch + offset\n",
    "\n",
    "    wandb.log({\"acc\": acc, \"loss\": loss})\n",
    "\n",
    "wandb.finish()"
   ]
  },
  {
   "cell_type": "code",
   "execution_count": 18,
   "metadata": {},
   "outputs": [],
   "source": [
    "class MyNeuralNetwork(nn.Module):\n",
    "    def __init__(self):\n",
    "        super().__init__()\n",
    "        self.net = nn.Sequential(\n",
    "            nn.Linear(70, 1024),\n",
    "            nn.LeakyReLU(),\n",
    "            nn.Linear(1024, 512),\n",
    "            nn.LeakyReLU(),\n",
    "            nn.Linear(512, 256),\n",
    "            nn.LeakyReLU(),\n",
    "            nn.Linear(256, 128),\n",
    "            nn.LeakyReLU(),\n",
    "            nn.Linear(128, 7),\n",
    "        )\n",
    "    \n",
    "    def forward(self, inputs):\n",
    "        return self.net(inputs)"
   ]
  },
  {
   "cell_type": "code",
   "execution_count": 44,
   "metadata": {},
   "outputs": [],
   "source": [
    "class MultiEmoVA(Dataset):\n",
    "    def __init__(self, data_path) -> None:\n",
    "        super().__init__()\n",
    "        data=pd.read_csv(data_path)\n",
    "        self.inputs = torch.tensor(data.drop([\"emotion\",\"path\", \"index\"], axis=1).to_numpy(np.float32))\n",
    "        self.index2label = [label for label in data[\"emotion\"].unique()]\n",
    "        label2index = {label: i for i, label in enumerate(self.index2label)}\n",
    "        self.labels = torch.tensor(data[\"emotion\"].apply(lambda x: label2index[x]))\n",
    "\n",
    "    \n",
    "    def __len__(self):\n",
    "        return len(self.inputs)\n",
    "    \n",
    "    def __getitem__(self, index):\n",
    "        return self.inputs[index], self.labels[index]\n",
    "\n",
    "    @staticmethod\n",
    "    def label_dict():\n",
    "        data=pd.read_csv(\"../dataset/dataset.csv\")\n",
    "        return [label for label in data[\"emotion\"].unique()]"
   ]
  },
  {
   "cell_type": "code",
   "execution_count": null,
   "metadata": {},
   "outputs": [],
   "source": [
    "def hyper_model(l1, learn):\n",
    "    device = \"cuda\"\n",
    "    data = MultiEmoVA(\"../dataset/dataset.csv\")\n",
    "    unlabeled = MultiEmoVA(\"../dataset/test_to_submit.csv\")\n",
    "\n",
    "    train, val, test = random_split(data, [0.7, 0.2, 0.1])\n",
    "\n",
    "    model = MyNeuralNetwork(l1)\n",
    "\n",
    "\n",
    "    train_loader = DataLoader(train)\n",
    "    val_loader = DataLoader(val)\n",
    "    test_loader = DataLoader(test)\n",
    "\n",
    "    loss_fn = nn.CrossEntropyLoss()\n",
    "    optim = torch.optim.Adam(model.parameters(), lr = learn)\n",
    "\n",
    "    n_epochs = 20\n",
    "\n",
    "    for epoch in range(n_epochs):\n",
    "        for inputs, labels in train_loader:\n",
    "            output = model(inputs)\n",
    "            loss = loss_fn(output, labels)\n",
    "            loss.backward()\n",
    "            optim.step()\n",
    "            optim.zero_grad()\n",
    "\n",
    "        correct = 0\n",
    "        for inputs, labels in val_loader:\n",
    "            output = model(inputs)\n",
    "            correct += (output.softmax(dim=1).argmax(dim=1) == labels).sum()\n",
    "        #print(f\"Validation accuracy is: {correct/len(val)}\")\n",
    "\n",
    "\n",
    "    correct = 0\n",
    "    for inputs, labels, in test_loader:\n",
    "        output = model(inputs)\n",
    "        correct += (output.softmax(dim=1).argmax(dim=1) == labels).sum()\n",
    "    print(f\"Hidden nodes: {l1}, Learning rate {learn}\")\n",
    "    print(f\"Test accuracy is: {correct/len(test)}\")\n",
    "\n",
    "\n",
    "    unlabeled_loader = DataLoader(unlabeled)\n",
    "    out = pd.DataFrame(list(map(lambda x: MultiEmoVA.label_dict()[model(x).softmax(dim=1).argmax(dim=1)], unlabeled_loader)))\n",
    "    out.to_csv('../processed/outputs', index = False, header = False)\n"
   ]
  },
  {
   "cell_type": "code",
   "execution_count": 17,
   "metadata": {},
   "outputs": [
    {
     "name": "stdout",
     "output_type": "stream",
     "text": [
      "Using cuda device\n"
     ]
    }
   ],
   "source": [
    "device = (\n",
    "    \"cuda\"\n",
    "    if torch.cuda.is_available()\n",
    "    else \"cpu\"\n",
    ")\n",
    "print(f\"Using {device} device\")"
   ]
  },
  {
   "cell_type": "code",
   "execution_count": 45,
   "metadata": {},
   "outputs": [],
   "source": [
    "model = MyNeuralNetwork().to(device)\n",
    "\n",
    "def init_weights(layer):\n",
    "    if isinstance(layer, nn.Linear):\n",
    "        torch.nn.init.kaiming_normal_(layer.weight)\n",
    "\n",
    "model.net.apply(init_weights)\n",
    "\n",
    "loss_func = nn.CrossEntropyLoss()\n",
    "\n",
    "optim = torch.optim.Adam(model.parameters(), lr = 0.001)\n",
    "\n",
    "n_epochs = 100\n",
    "\n",
    "\n",
    "# use nn.Softmax() before prediction\n"
   ]
  },
  {
   "cell_type": "code",
   "execution_count": 51,
   "metadata": {},
   "outputs": [
    {
     "ename": "NameError",
     "evalue": "name 'emotion' is not defined",
     "output_type": "error",
     "traceback": [
      "\u001b[1;31m---------------------------------------------------------------------------\u001b[0m",
      "\u001b[1;31mNameError\u001b[0m                                 Traceback (most recent call last)",
      "\u001b[1;32mc:\\Users\\Shuai Shao\\Documents\\Repositories\\FurhatCoach\\python\\train_model.ipynb Cell 10\u001b[0m line \u001b[0;36m2\n\u001b[0;32m      <a href='vscode-notebook-cell:/c%3A/Users/Shuai%20Shao/Documents/Repositories/FurhatCoach/python/train_model.ipynb#X13sZmlsZQ%3D%3D?line=0'>1</a>\u001b[0m data \u001b[39m=\u001b[39m MultiEmoVA(\u001b[39m\"\u001b[39m\u001b[39mdata\u001b[39m\u001b[39m\\\u001b[39m\u001b[39mDiffusionFER\u001b[39m\u001b[39m\\\u001b[39m\u001b[39mDiffusionEmotion_S\u001b[39m\u001b[39m\\\u001b[39m\u001b[39mcropped\u001b[39m\u001b[39m\\\u001b[39m\u001b[39mlabels.csv\u001b[39m\u001b[39m\"\u001b[39m)\n\u001b[1;32m----> <a href='vscode-notebook-cell:/c%3A/Users/Shuai%20Shao/Documents/Repositories/FurhatCoach/python/train_model.ipynb#X13sZmlsZQ%3D%3D?line=1'>2</a>\u001b[0m train, test \u001b[39m=\u001b[39m train_test_split(data, test_size \u001b[39m=\u001b[39m \u001b[39m0.3\u001b[39m, stratify \u001b[39m=\u001b[39m emotion)\n",
      "\u001b[1;31mNameError\u001b[0m: name 'emotion' is not defined"
     ]
    }
   ],
   "source": [
    "data = MultiEmoVA(\"data\\DiffusionFER\\DiffusionEmotion_S\\cropped\\labels.csv\")\n",
    "train, test = train_test_split(data, test_size = 0.3, stratify = data.labels\n"
   ]
  },
  {
   "cell_type": "code",
   "execution_count": null,
   "metadata": {},
   "outputs": [],
   "source": [
    "for epoch in range(n_epochs):\n",
    "    for inputs, labels in train_loader:\n",
    "        output = model(inputs)\n",
    "        loss = loss_func(output, labels)\n",
    "        loss.backward()\n",
    "        optim.step()\n",
    "        optim.zero_grad()\n",
    "\n",
    "    correct = 0\n",
    "    for inputs, labels in val_loader:\n",
    "        output = model(inputs)\n",
    "        correct += (output.softmax(dim=1).argmax(dim=1) == labels).sum()"
   ]
  }
 ],
 "metadata": {
  "kernelspec": {
   "display_name": "Python 3",
   "language": "python",
   "name": "python3"
  },
  "language_info": {
   "codemirror_mode": {
    "name": "ipython",
    "version": 3
   },
   "file_extension": ".py",
   "mimetype": "text/x-python",
   "name": "python",
   "nbconvert_exporter": "python",
   "pygments_lexer": "ipython3",
   "version": "3.11.6"
  }
 },
 "nbformat": 4,
 "nbformat_minor": 2
}
