{
 "cells": [
  {
   "cell_type": "markdown",
   "metadata": {},
   "source": [
    "# Train Emotion Recognition\n",
    "ResMaskingNet which is available in PyFeat uses 142.9 million parameters with 74% accuracy.\n",
    "Human emotion detection only reaches 65+-5%, poor golden standard\n",
    "\n",
    "3-15 million"
   ]
  },
  {
   "cell_type": "code",
   "execution_count": 202,
   "metadata": {},
   "outputs": [],
   "source": [
    "import wandb\n",
    "import random\n",
    "from torch import nn\n",
    "import numpy as np\n",
    "from torch.utils.data import Dataset, DataLoader, random_split\n",
    "import pandas as pd\n",
    "import torch\n",
    "from sklearn.model_selection import train_test_split\n",
    "import math\n",
    "import itertools\n",
    "from sklearn.metrics import matthews_corrcoef as mcc"
   ]
  },
  {
   "cell_type": "code",
   "execution_count": 180,
   "metadata": {},
   "outputs": [
    {
     "data": {
      "text/plain": [
       "True"
      ]
     },
     "execution_count": 180,
     "metadata": {},
     "output_type": "execute_result"
    }
   ],
   "source": [
    "WANDB_API_KEY = \"9ff9cdd1ffada991cc4f457217b7dfa6d0d7ce3b\"\n",
    "WANDB_NOTEBOOK_NAME = \"Train Emotion Recognition\"\n",
    "wandb.login()"
   ]
  },
  {
   "cell_type": "code",
   "execution_count": 208,
   "metadata": {},
   "outputs": [],
   "source": [
    "class MyNeuralNetwork(nn.Module):\n",
    "    def __init__(self, layers, dropout):\n",
    "        super().__init__()\n",
    "        self.net = nn.Sequential(\n",
    "            nn.Linear(70, layers[0]),\n",
    "            nn.LeakyReLU(),\n",
    "            nn.Dropout(p = dropout[0]),\n",
    "            nn.Linear(layers[0], layers[1]),\n",
    "            nn.LeakyReLU(),\n",
    "            nn.Dropout(p = dropout[1]),\n",
    "            nn.Linear(layers[1], layers[2]),\n",
    "            nn.LeakyReLU(),\n",
    "            nn.Dropout(p = dropout[2]),\n",
    "            nn.Linear(layers[2], layers[3]),\n",
    "            nn.LeakyReLU(),\n",
    "            nn.Dropout(p = dropout[3]),\n",
    "            nn.Linear(layers[3], 7),\n",
    "        )\n",
    "    \n",
    "    def forward(self, inputs):\n",
    "        return self.net(inputs)"
   ]
  },
  {
   "cell_type": "code",
   "execution_count": 108,
   "metadata": {},
   "outputs": [],
   "source": [
    "class MultiEmoVA(Dataset):\n",
    "    def __init__(self, df):\n",
    "        super().__init__()\n",
    "        self.data = df\n",
    "        self.inputs = torch.tensor(data.drop([\"emotion\",\"path\", \"index\"], axis=1).to_numpy(np.float32))\n",
    "        self.index2label = [label for label in data[\"emotion\"].unique()]\n",
    "        label2index = {label: i for i, label in enumerate(self.index2label)}\n",
    "        self.labels = torch.tensor(data[\"emotion\"].apply(lambda x: label2index[x]))\n",
    "\n",
    "    \n",
    "    def __len__(self):\n",
    "        return len(self.inputs)\n",
    "    \n",
    "    def __getitem__(self, index):\n",
    "        return self.inputs[index], self.labels[index]\n",
    "    \n",
    "    def map(self):\n",
    "        return self.index2label\n"
   ]
  },
  {
   "cell_type": "code",
   "execution_count": 109,
   "metadata": {},
   "outputs": [
    {
     "name": "stdout",
     "output_type": "stream",
     "text": [
      "Using cuda device\n"
     ]
    }
   ],
   "source": [
    "device = (\n",
    "    \"cuda\"\n",
    "    if torch.cuda.is_available()\n",
    "    else \"cpu\"\n",
    ")\n",
    "print(f\"Using {device} device\")"
   ]
  },
  {
   "cell_type": "code",
   "execution_count": 179,
   "metadata": {},
   "outputs": [
    {
     "name": "stderr",
     "output_type": "stream",
     "text": [
      "c:\\Users\\Shuai Shao\\AppData\\Local\\Programs\\Python\\Python311\\Lib\\site-packages\\sklearn\\utils\\validation.py:605: FutureWarning: is_sparse is deprecated and will be removed in a future version. Check `isinstance(dtype, pd.SparseDtype)` instead.\n",
      "  if is_sparse(pd_dtype):\n",
      "c:\\Users\\Shuai Shao\\AppData\\Local\\Programs\\Python\\Python311\\Lib\\site-packages\\sklearn\\utils\\validation.py:614: FutureWarning: is_sparse is deprecated and will be removed in a future version. Check `isinstance(dtype, pd.SparseDtype)` instead.\n",
      "  if is_sparse(pd_dtype) or not is_extension_array_dtype(pd_dtype):\n",
      "c:\\Users\\Shuai Shao\\AppData\\Local\\Programs\\Python\\Python311\\Lib\\site-packages\\sklearn\\utils\\validation.py:605: FutureWarning: is_sparse is deprecated and will be removed in a future version. Check `isinstance(dtype, pd.SparseDtype)` instead.\n",
      "  if is_sparse(pd_dtype):\n",
      "c:\\Users\\Shuai Shao\\AppData\\Local\\Programs\\Python\\Python311\\Lib\\site-packages\\sklearn\\utils\\validation.py:614: FutureWarning: is_sparse is deprecated and will be removed in a future version. Check `isinstance(dtype, pd.SparseDtype)` instead.\n",
      "  if is_sparse(pd_dtype) or not is_extension_array_dtype(pd_dtype):\n"
     ]
    }
   ],
   "source": [
    "data = pd.read_csv(\"data\\DiffusionFER\\DiffusionEmotion_S\\cropped\\labels.csv\")\n",
    "\n",
    "learn, test = train_test_split(data, test_size = 0.1, stratify= data[\"emotion\"])\n",
    "train, val = train_test_split(learn, test_size = 0.2, stratify= learn[\"emotion\"])"
   ]
  },
  {
   "cell_type": "code",
   "execution_count": 219,
   "metadata": {},
   "outputs": [
    {
     "data": {
      "text/html": [
       "Tracking run with wandb version 0.16.1"
      ],
      "text/plain": [
       "<IPython.core.display.HTML object>"
      ]
     },
     "metadata": {},
     "output_type": "display_data"
    },
    {
     "data": {
      "text/html": [
       "Run data is saved locally in <code>c:\\Users\\Shuai Shao\\Documents\\Repositories\\FurhatCoach\\python\\wandb\\run-20231209_051221-gtd8u89g</code>"
      ],
      "text/plain": [
       "<IPython.core.display.HTML object>"
      ]
     },
     "metadata": {},
     "output_type": "display_data"
    },
    {
     "data": {
      "text/html": [
       "Syncing run <strong><a href='https://wandb.ai/icm/Furhat%20Coach/runs/gtd8u89g' target=\"_blank\">earthy-field-17</a></strong> to <a href='https://wandb.ai/icm/Furhat%20Coach' target=\"_blank\">Weights & Biases</a> (<a href='https://wandb.me/run' target=\"_blank\">docs</a>)<br/>"
      ],
      "text/plain": [
       "<IPython.core.display.HTML object>"
      ]
     },
     "metadata": {},
     "output_type": "display_data"
    },
    {
     "data": {
      "text/html": [
       " View project at <a href='https://wandb.ai/icm/Furhat%20Coach' target=\"_blank\">https://wandb.ai/icm/Furhat%20Coach</a>"
      ],
      "text/plain": [
       "<IPython.core.display.HTML object>"
      ]
     },
     "metadata": {},
     "output_type": "display_data"
    },
    {
     "data": {
      "text/html": [
       " View run at <a href='https://wandb.ai/icm/Furhat%20Coach/runs/gtd8u89g' target=\"_blank\">https://wandb.ai/icm/Furhat%20Coach/runs/gtd8u89g</a>"
      ],
      "text/plain": [
       "<IPython.core.display.HTML object>"
      ]
     },
     "metadata": {},
     "output_type": "display_data"
    },
    {
     "name": "stdout",
     "output_type": "stream",
     "text": [
      "Training accuracy is: 0.1424124538898468\n",
      "Validation accuracy is: 0.2090517282485962\n",
      "Training accuracy is: 0.16420233249664307\n",
      "Validation accuracy is: 0.2492816150188446\n",
      "Training accuracy is: 0.14785991609096527\n",
      "Validation accuracy is: 0.25\n",
      "Training accuracy is: 0.18210116028785706\n",
      "Validation accuracy is: 0.2399425208568573\n",
      "Training accuracy is: 0.1603112816810608\n",
      "Validation accuracy is: 0.2198275923728943\n",
      "Training accuracy is: 0.16887159645557404\n",
      "Validation accuracy is: 0.1989942491054535\n",
      "Training accuracy is: 0.16264592111110687\n",
      "Validation accuracy is: 0.20545977354049683\n",
      "Training accuracy is: 0.18365758657455444\n",
      "Validation accuracy is: 0.2176724076271057\n",
      "Training accuracy is: 0.1898832619190216\n",
      "Validation accuracy is: 0.2277298867702484\n",
      "Training accuracy is: 0.17976653575897217\n",
      "Validation accuracy is: 0.24137930572032928\n",
      "Training accuracy is: 0.18132296204566956\n",
      "Validation accuracy is: 0.2492816150188446\n",
      "Training accuracy is: 0.21867704391479492\n",
      "Validation accuracy is: 0.25646552443504333\n",
      "Training accuracy is: 0.20000000298023224\n",
      "Validation accuracy is: 0.2679597735404968\n",
      "Training accuracy is: 0.19922178983688354\n",
      "Validation accuracy is: 0.26364943385124207\n",
      "Training accuracy is: 0.20311284065246582\n",
      "Validation accuracy is: 0.2614942491054535\n",
      "Training accuracy is: 0.19299611449241638\n",
      "Validation accuracy is: 0.26508620381355286\n",
      "Training accuracy is: 0.1906614750623703\n",
      "Validation accuracy is: 0.26724138855934143\n",
      "Training accuracy is: 0.2046692669391632\n",
      "Validation accuracy is: 0.26580458879470825\n",
      "Training accuracy is: 0.1906614750623703\n",
      "Validation accuracy is: 0.26580458879470825\n",
      "Training accuracy is: 0.1883268505334854\n",
      "Validation accuracy is: 0.2622126340866089\n",
      "Training accuracy is: 0.21712061762809753\n",
      "Validation accuracy is: 0.26364943385124207\n",
      "Training accuracy is: 0.21089494228363037\n",
      "Validation accuracy is: 0.26724138855934143\n",
      "Training accuracy is: 0.21400777995586395\n",
      "Validation accuracy is: 0.2722701132297516\n",
      "Training accuracy is: 0.20856031775474548\n",
      "Validation accuracy is: 0.2780172526836395\n",
      "Training accuracy is: 0.19299611449241638\n",
      "Validation accuracy is: 0.28807470202445984\n",
      "Training accuracy is: 0.20155641436576843\n",
      "Validation accuracy is: 0.29813218116760254\n",
      "Training accuracy is: 0.20000000298023224\n",
      "Validation accuracy is: 0.2887931168079376\n",
      "Training accuracy is: 0.22490271925926208\n",
      "Validation accuracy is: 0.29669541120529175\n",
      "Training accuracy is: 0.21556420624256134\n",
      "Validation accuracy is: 0.3017241358757019\n",
      "Training accuracy is: 0.22645914554595947\n",
      "Validation accuracy is: 0.3024425208568573\n",
      "Training accuracy is: 0.23346303403377533\n",
      "Validation accuracy is: 0.3024425208568573\n",
      "Training accuracy is: 0.21867704391479492\n",
      "Validation accuracy is: 0.3125\n",
      "Training accuracy is: 0.21712061762809753\n",
      "Validation accuracy is: 0.31896552443504333\n",
      "Training accuracy is: 0.22723735868930817\n",
      "Validation accuracy is: 0.30747127532958984\n",
      "Training accuracy is: 0.22957198321819305\n",
      "Validation accuracy is: 0.3010057508945465\n",
      "Training accuracy is: 0.22568093240261078\n",
      "Validation accuracy is: 0.31681033968925476\n",
      "Training accuracy is: 0.2225680947303772\n",
      "Validation accuracy is: 0.33764368295669556\n",
      "Training accuracy is: 0.21789883077144623\n",
      "Validation accuracy is: 0.33764368295669556\n",
      "Training accuracy is: 0.22879377007484436\n",
      "Validation accuracy is: 0.3333333432674408\n",
      "Training accuracy is: 0.2233463078737259\n",
      "Validation accuracy is: 0.31968390941619873\n",
      "Training accuracy is: 0.2381322979927063\n",
      "Validation accuracy is: 0.3132183849811554\n",
      "Training accuracy is: 0.23112840950489044\n",
      "Validation accuracy is: 0.30962643027305603\n",
      "Training accuracy is: 0.21167315542697906\n",
      "Validation accuracy is: 0.3038793206214905\n",
      "Training accuracy is: 0.23579765856266022\n",
      "Validation accuracy is: 0.31609195470809937\n",
      "Training accuracy is: 0.23346303403377533\n",
      "Validation accuracy is: 0.32902297377586365\n",
      "Training accuracy is: 0.20933851599693298\n",
      "Validation accuracy is: 0.3362068831920624\n",
      "Training accuracy is: 0.22490271925926208\n",
      "Validation accuracy is: 0.3448275923728943\n",
      "Training accuracy is: 0.2210116684436798\n",
      "Validation accuracy is: 0.3534482717514038\n",
      "Training accuracy is: 0.23190660774707794\n",
      "Validation accuracy is: 0.35919541120529175\n",
      "Training accuracy is: 0.2396887093782425\n",
      "Validation accuracy is: 0.36925286054611206\n",
      "Training accuracy is: 0.24980545043945312\n",
      "Validation accuracy is: 0.36781609058380127\n",
      "Training accuracy is: 0.24357976019382477\n",
      "Validation accuracy is: 0.37787356972694397\n",
      "Training accuracy is: 0.2505836486816406\n",
      "Validation accuracy is: 0.38218390941619873\n",
      "Training accuracy is: 0.2536965012550354\n",
      "Validation accuracy is: 0.3872126340866089\n",
      "Training accuracy is: 0.26381322741508484\n",
      "Validation accuracy is: 0.3872126340866089\n",
      "Training accuracy is: 0.24357976019382477\n",
      "Validation accuracy is: 0.38218390941619873\n",
      "Training accuracy is: 0.26225680112838745\n",
      "Validation accuracy is: 0.39080458879470825\n",
      "Training accuracy is: 0.2544746994972229\n",
      "Validation accuracy is: 0.397988498210907\n",
      "Training accuracy is: 0.24357976019382477\n",
      "Validation accuracy is: 0.3735632300376892\n",
      "Training accuracy is: 0.2560311257839203\n",
      "Validation accuracy is: 0.37140804529190063\n",
      "Training accuracy is: 0.2552529275417328\n",
      "Validation accuracy is: 0.3864942491054535\n",
      "Training accuracy is: 0.2544746994972229\n",
      "Validation accuracy is: 0.38864943385124207\n",
      "Training accuracy is: 0.2381322979927063\n",
      "Validation accuracy is: 0.4030172526836395\n",
      "Training accuracy is: 0.26459142565727234\n",
      "Validation accuracy is: 0.39080458879470825\n",
      "Training accuracy is: 0.2669260799884796\n",
      "Validation accuracy is: 0.3836206793785095\n",
      "Training accuracy is: 0.2544746994972229\n",
      "Validation accuracy is: 0.38218390941619873\n",
      "Training accuracy is: 0.24669261276721954\n",
      "Validation accuracy is: 0.40158045291900635\n",
      "Training accuracy is: 0.24980545043945312\n",
      "Validation accuracy is: 0.414511501789093\n",
      "Training accuracy is: 0.26303502917289734\n",
      "Validation accuracy is: 0.4051724076271057\n",
      "Training accuracy is: 0.2824902832508087\n",
      "Validation accuracy is: 0.40014368295669556\n",
      "Training accuracy is: 0.27470818161964417\n",
      "Validation accuracy is: 0.39942529797554016\n",
      "Training accuracy is: 0.24902723729610443\n",
      "Validation accuracy is: 0.4066092073917389\n",
      "Training accuracy is: 0.29494163393974304\n",
      "Validation accuracy is: 0.42385056614875793\n",
      "Training accuracy is: 0.2661478519439697\n",
      "Validation accuracy is: 0.43175286054611206\n",
      "Training accuracy is: 0.29727625846862793\n",
      "Validation accuracy is: 0.4195402264595032\n",
      "Training accuracy is: 0.286381334066391\n",
      "Validation accuracy is: 0.41020116209983826\n",
      "Training accuracy is: 0.2894941568374634\n",
      "Validation accuracy is: 0.42025861144065857\n"
     ]
    },
    {
     "ename": "KeyboardInterrupt",
     "evalue": "",
     "output_type": "error",
     "traceback": [
      "\u001b[1;31m---------------------------------------------------------------------------\u001b[0m",
      "\u001b[1;31mKeyboardInterrupt\u001b[0m                         Traceback (most recent call last)",
      "\u001b[1;32mc:\\Users\\Shuai Shao\\Documents\\Repositories\\FurhatCoach\\python\\train_model.ipynb Cell 8\u001b[0m line \u001b[0;36m4\n\u001b[0;32m     <a href='vscode-notebook-cell:/c%3A/Users/Shuai%20Shao/Documents/Repositories/FurhatCoach/python/train_model.ipynb#X12sZmlsZQ%3D%3D?line=38'>39</a>\u001b[0m train_total \u001b[39m=\u001b[39m \u001b[39m0\u001b[39m\n\u001b[0;32m     <a href='vscode-notebook-cell:/c%3A/Users/Shuai%20Shao/Documents/Repositories/FurhatCoach/python/train_model.ipynb#X12sZmlsZQ%3D%3D?line=39'>40</a>\u001b[0m \u001b[39mfor\u001b[39;00m inputs, labels \u001b[39min\u001b[39;00m train_loader:\n\u001b[1;32m---> <a href='vscode-notebook-cell:/c%3A/Users/Shuai%20Shao/Documents/Repositories/FurhatCoach/python/train_model.ipynb#X12sZmlsZQ%3D%3D?line=40'>41</a>\u001b[0m     inputs \u001b[39m=\u001b[39m inputs\u001b[39m.\u001b[39;49mto(device)\n\u001b[0;32m     <a href='vscode-notebook-cell:/c%3A/Users/Shuai%20Shao/Documents/Repositories/FurhatCoach/python/train_model.ipynb#X12sZmlsZQ%3D%3D?line=41'>42</a>\u001b[0m     labels \u001b[39m=\u001b[39m labels\u001b[39m.\u001b[39mto(device)\n\u001b[0;32m     <a href='vscode-notebook-cell:/c%3A/Users/Shuai%20Shao/Documents/Repositories/FurhatCoach/python/train_model.ipynb#X12sZmlsZQ%3D%3D?line=42'>43</a>\u001b[0m     output \u001b[39m=\u001b[39m model(inputs)\n",
      "\u001b[1;31mKeyboardInterrupt\u001b[0m: "
     ]
    }
   ],
   "source": [
    "wandb.init(\n",
    "    project = \"Furhat Coach\"\n",
    ")\n",
    "\n",
    "wandb.config = {\n",
    "        \"learning_rate\": 0.00001,\n",
    "        \"architecture\": (1024, 512, 256, 128),\n",
    "        \"epochs\": 1000,\n",
    "        \"batch\": 257,\n",
    "        \"dropout\": (0, 0, 0.2, 0.3),\n",
    "    }\n",
    "\n",
    "###########################################################################################\n",
    "\n",
    "train_loader = DataLoader(MultiEmoVA(train), batch_size= wandb.config[\"batch\"], shuffle = True)\n",
    "val_loader = DataLoader(MultiEmoVA(val), batch_size= len(val), shuffle = True)\n",
    "test_loader = DataLoader(MultiEmoVA(test), batch_size= len(test), shuffle = True)\n",
    "\n",
    "#model = MyNeuralNetwork(wandb.config[\"architecture\"], wandb.config[\"dropout\"]).to(device)\n",
    "model = torch.load(\"models/acc_96.8\")\n",
    "\n",
    "def init_weights(layer):\n",
    "    if isinstance(layer, nn.Linear):\n",
    "        torch.nn.init.kaiming_normal_(layer.weight)\n",
    "\n",
    "model.net.apply(init_weights)\n",
    "\n",
    "loss_func = nn.CrossEntropyLoss()\n",
    "\n",
    "optim = torch.optim.Adam(model.parameters(), lr = wandb.config[\"learning_rate\"])\n",
    "\n",
    "\n",
    "batch_size = 257\n",
    "\n",
    "##########################################################################################\n",
    "\n",
    "for epoch in range(wandb.config[\"epochs\"]):\n",
    "    model.train()\n",
    "    train_correct = 0\n",
    "    train_total = 0\n",
    "    for inputs, labels in train_loader:\n",
    "        inputs = inputs.to(device)\n",
    "        labels = labels.to(device)\n",
    "        output = model(inputs)\n",
    "        train_loss = loss_func(output, labels)\n",
    "        train_loss.backward()\n",
    "        optim.step()\n",
    "        optim.zero_grad()\n",
    "        train_correct += (output.softmax(dim=1).argmax(dim=1) == labels).sum()\n",
    "        train_total += batch_size\n",
    "\n",
    "    model.eval()\n",
    "    val_correct = 0\n",
    "    val_total = 0\n",
    "    val_mcc = 0\n",
    "    for inputs, labels in val_loader:\n",
    "        inputs = inputs.to(device)\n",
    "        labels = labels.to(device)\n",
    "        output = model(inputs)\n",
    "        val_loss = train_loss = loss_func(output, labels)\n",
    "        val_correct += (output.softmax(dim=1).argmax(dim=1) == labels).sum()\n",
    "        val_total += len(val)\n",
    "        val_mcc = mcc(labels.to(\"cpu\"), output.softmax(dim=1).argmax(dim=1).to(\"cpu\"))\n",
    "        \n",
    "    print(f\"Training accuracy is: {train_correct/train_total}\")\n",
    "    print(f\"Validation accuracy is: {val_correct/val_total}\")\n",
    "    wandb.log({\"train_acc\": train_correct/train_total, \"val_acc\": val_correct/val_total,\"train_loss\": train_loss, \"val_loss\": val_loss, \"val_mcc\": val_mcc})\n",
    "\n",
    "model.eval()\n",
    "test_correct = 0\n",
    "test_total = 0\n",
    "test_mcc = 0\n",
    "for inputs, labels, in test_loader:\n",
    "    inputs = inputs.to(device)\n",
    "    labels = labels.to(device)\n",
    "    output = model(inputs)\n",
    "    test_correct += (output.softmax(dim=1).argmax(dim=1) == labels).sum()\n",
    "    test_total += len(test)\n",
    "    test_mcc = mcc(labels.to(\"cpu\"), output.softmax(dim=1).argmax(dim=1).to(\"cpu\"))\n",
    "\n",
    "print(f\"Test accuracy is: {test_correct/test_total}\")\n",
    "wandb.log({\"test_acc\": test_correct/test_total, \"test_mcc\": test_mcc})\n",
    "\n",
    "wandb.finish()"
   ]
  },
  {
   "cell_type": "code",
   "execution_count": null,
   "metadata": {},
   "outputs": [],
   "source": [
    "class ConfusionMatrix:\n",
    "    def __init__(self, classlist):\n",
    "        self.classes = {key: 0 for key in classlist}\n",
    "        self.large_matrix = {key: 0 for key in itertools.product(classlist, classlist)}\n",
    "        self.tn = 0\n",
    "        self.fn = 0\n",
    "        self.tp = 0\n",
    "        self.fp = 0\n",
    "    \n",
    "    def add(label, result):\n",
    "        if \n",
    "        \n",
    "\n",
    "            \n",
    "\n",
    "    "
   ]
  },
  {
   "cell_type": "code",
   "execution_count": 194,
   "metadata": {},
   "outputs": [],
   "source": [
    "torch.save(model, \"models/acc_96.8\")\n",
    "#torch.load"
   ]
  },
  {
   "cell_type": "code",
   "execution_count": 212,
   "metadata": {},
   "outputs": [],
   "source": [
    "model = torch.load(\"models/acc_96.8\")"
   ]
  },
  {
   "cell_type": "code",
   "execution_count": 213,
   "metadata": {},
   "outputs": [
    {
     "data": {
      "application/vnd.jupyter.widget-view+json": {
       "model_id": "745e14f0c40549b1879688e3172be85e",
       "version_major": 2,
       "version_minor": 0
      },
      "text/plain": [
       "VBox(children=(Label(value='Waiting for wandb.init()...\\r'), FloatProgress(value=0.011111111111111112, max=1.0…"
      ]
     },
     "metadata": {},
     "output_type": "display_data"
    },
    {
     "data": {
      "text/html": [
       "Tracking run with wandb version 0.16.1"
      ],
      "text/plain": [
       "<IPython.core.display.HTML object>"
      ]
     },
     "metadata": {},
     "output_type": "display_data"
    },
    {
     "data": {
      "text/html": [
       "Run data is saved locally in <code>c:\\Users\\Shuai Shao\\Documents\\Repositories\\FurhatCoach\\python\\wandb\\run-20231209_050656-omwyxcz8</code>"
      ],
      "text/plain": [
       "<IPython.core.display.HTML object>"
      ]
     },
     "metadata": {},
     "output_type": "display_data"
    },
    {
     "data": {
      "text/html": [
       "Syncing run <strong><a href='https://wandb.ai/icm/Furhat%20Coach/runs/omwyxcz8' target=\"_blank\">earnest-shape-16</a></strong> to <a href='https://wandb.ai/icm/Furhat%20Coach' target=\"_blank\">Weights & Biases</a> (<a href='https://wandb.me/run' target=\"_blank\">docs</a>)<br/>"
      ],
      "text/plain": [
       "<IPython.core.display.HTML object>"
      ]
     },
     "metadata": {},
     "output_type": "display_data"
    },
    {
     "data": {
      "text/html": [
       " View project at <a href='https://wandb.ai/icm/Furhat%20Coach' target=\"_blank\">https://wandb.ai/icm/Furhat%20Coach</a>"
      ],
      "text/plain": [
       "<IPython.core.display.HTML object>"
      ]
     },
     "metadata": {},
     "output_type": "display_data"
    },
    {
     "data": {
      "text/html": [
       " View run at <a href='https://wandb.ai/icm/Furhat%20Coach/runs/omwyxcz8' target=\"_blank\">https://wandb.ai/icm/Furhat%20Coach/runs/omwyxcz8</a>"
      ],
      "text/plain": [
       "<IPython.core.display.HTML object>"
      ]
     },
     "metadata": {},
     "output_type": "display_data"
    },
    {
     "data": {
      "text/html": [
       "<button onClick=\"this.nextSibling.style.display='block';this.style.display='none';\">Display W&B run</button><iframe src='https://wandb.ai/icm/Furhat%20Coach/runs/omwyxcz8?jupyter=true' style='border:none;width:100%;height:420px;display:none;'></iframe>"
      ],
      "text/plain": [
       "<wandb.sdk.wandb_run.Run at 0x251c3b20c10>"
      ]
     },
     "execution_count": 213,
     "metadata": {},
     "output_type": "execute_result"
    }
   ],
   "source": [
    "wandb.init(\n",
    "    project = \"Furhat Coach\"\n",
    ")"
   ]
  },
  {
   "cell_type": "code",
   "execution_count": 207,
   "metadata": {},
   "outputs": [
    {
     "data": {
      "text/plain": [
       "209287"
      ]
     },
     "execution_count": 207,
     "metadata": {},
     "output_type": "execute_result"
    }
   ],
   "source": [
    "def count_parameters(model): return sum(p.numel() for p in model.parameters() if p.requires_grad)\n",
    "\n",
    "count_parameters(model)"
   ]
  },
  {
   "cell_type": "code",
   "execution_count": 218,
   "metadata": {},
   "outputs": [
    {
     "name": "stdout",
     "output_type": "stream",
     "text": [
      "[(tensor(5, device='cuda:0'), tensor(5, device='cuda:0')), (tensor(6, device='cuda:0'), tensor(6, device='cuda:0')), (tensor(3, device='cuda:0'), tensor(3, device='cuda:0')), (tensor(1, device='cuda:0'), tensor(1, device='cuda:0')), (tensor(4, device='cuda:0'), tensor(4, device='cuda:0')), (tensor(6, device='cuda:0'), tensor(6, device='cuda:0')), (tensor(2, device='cuda:0'), tensor(2, device='cuda:0')), (tensor(6, device='cuda:0'), tensor(6, device='cuda:0')), (tensor(6, device='cuda:0'), tensor(6, device='cuda:0')), (tensor(3, device='cuda:0'), tensor(3, device='cuda:0')), (tensor(5, device='cuda:0'), tensor(5, device='cuda:0')), (tensor(0, device='cuda:0'), tensor(0, device='cuda:0')), (tensor(4, device='cuda:0'), tensor(4, device='cuda:0')), (tensor(6, device='cuda:0'), tensor(6, device='cuda:0')), (tensor(1, device='cuda:0'), tensor(1, device='cuda:0')), (tensor(4, device='cuda:0'), tensor(4, device='cuda:0')), (tensor(4, device='cuda:0'), tensor(4, device='cuda:0')), (tensor(3, device='cuda:0'), tensor(3, device='cuda:0')), (tensor(0, device='cuda:0'), tensor(0, device='cuda:0')), (tensor(4, device='cuda:0'), tensor(4, device='cuda:0')), (tensor(4, device='cuda:0'), tensor(4, device='cuda:0')), (tensor(6, device='cuda:0'), tensor(6, device='cuda:0')), (tensor(3, device='cuda:0'), tensor(3, device='cuda:0')), (tensor(4, device='cuda:0'), tensor(4, device='cuda:0')), (tensor(4, device='cuda:0'), tensor(4, device='cuda:0')), (tensor(3, device='cuda:0'), tensor(3, device='cuda:0')), (tensor(0, device='cuda:0'), tensor(0, device='cuda:0')), (tensor(2, device='cuda:0'), tensor(2, device='cuda:0')), (tensor(4, device='cuda:0'), tensor(4, device='cuda:0')), (tensor(6, device='cuda:0'), tensor(6, device='cuda:0')), (tensor(3, device='cuda:0'), tensor(3, device='cuda:0')), (tensor(2, device='cuda:0'), tensor(2, device='cuda:0')), (tensor(3, device='cuda:0'), tensor(3, device='cuda:0')), (tensor(6, device='cuda:0'), tensor(6, device='cuda:0')), (tensor(6, device='cuda:0'), tensor(6, device='cuda:0')), (tensor(6, device='cuda:0'), tensor(6, device='cuda:0')), (tensor(5, device='cuda:0'), tensor(5, device='cuda:0')), (tensor(3, device='cuda:0'), tensor(3, device='cuda:0')), (tensor(2, device='cuda:0'), tensor(2, device='cuda:0')), (tensor(2, device='cuda:0'), tensor(2, device='cuda:0')), (tensor(2, device='cuda:0'), tensor(2, device='cuda:0')), (tensor(0, device='cuda:0'), tensor(0, device='cuda:0')), (tensor(0, device='cuda:0'), tensor(0, device='cuda:0')), (tensor(4, device='cuda:0'), tensor(4, device='cuda:0')), (tensor(6, device='cuda:0'), tensor(6, device='cuda:0')), (tensor(5, device='cuda:0'), tensor(5, device='cuda:0')), (tensor(3, device='cuda:0'), tensor(3, device='cuda:0')), (tensor(6, device='cuda:0'), tensor(6, device='cuda:0')), (tensor(4, device='cuda:0'), tensor(4, device='cuda:0')), (tensor(3, device='cuda:0'), tensor(3, device='cuda:0')), (tensor(4, device='cuda:0'), tensor(4, device='cuda:0')), (tensor(4, device='cuda:0'), tensor(4, device='cuda:0')), (tensor(6, device='cuda:0'), tensor(6, device='cuda:0')), (tensor(5, device='cuda:0'), tensor(5, device='cuda:0')), (tensor(6, device='cuda:0'), tensor(6, device='cuda:0')), (tensor(6, device='cuda:0'), tensor(6, device='cuda:0')), (tensor(2, device='cuda:0'), tensor(2, device='cuda:0')), (tensor(5, device='cuda:0'), tensor(5, device='cuda:0')), (tensor(1, device='cuda:0'), tensor(1, device='cuda:0')), (tensor(3, device='cuda:0'), tensor(3, device='cuda:0')), (tensor(6, device='cuda:0'), tensor(6, device='cuda:0')), (tensor(6, device='cuda:0'), tensor(6, device='cuda:0')), (tensor(6, device='cuda:0'), tensor(6, device='cuda:0')), (tensor(5, device='cuda:0'), tensor(5, device='cuda:0')), (tensor(3, device='cuda:0'), tensor(3, device='cuda:0')), (tensor(5, device='cuda:0'), tensor(5, device='cuda:0')), (tensor(4, device='cuda:0'), tensor(4, device='cuda:0')), (tensor(3, device='cuda:0'), tensor(3, device='cuda:0')), (tensor(0, device='cuda:0'), tensor(0, device='cuda:0')), (tensor(3, device='cuda:0'), tensor(3, device='cuda:0')), (tensor(3, device='cuda:0'), tensor(3, device='cuda:0')), (tensor(3, device='cuda:0'), tensor(3, device='cuda:0')), (tensor(4, device='cuda:0'), tensor(4, device='cuda:0')), (tensor(3, device='cuda:0'), tensor(3, device='cuda:0')), (tensor(6, device='cuda:0'), tensor(6, device='cuda:0')), (tensor(0, device='cuda:0'), tensor(0, device='cuda:0')), (tensor(5, device='cuda:0'), tensor(5, device='cuda:0')), (tensor(4, device='cuda:0'), tensor(4, device='cuda:0')), (tensor(3, device='cuda:0'), tensor(3, device='cuda:0')), (tensor(6, device='cuda:0'), tensor(6, device='cuda:0')), (tensor(0, device='cuda:0'), tensor(0, device='cuda:0')), (tensor(4, device='cuda:0'), tensor(4, device='cuda:0')), (tensor(1, device='cuda:0'), tensor(1, device='cuda:0')), (tensor(6, device='cuda:0'), tensor(6, device='cuda:0')), (tensor(1, device='cuda:0'), tensor(1, device='cuda:0')), (tensor(4, device='cuda:0'), tensor(4, device='cuda:0')), (tensor(4, device='cuda:0'), tensor(4, device='cuda:0')), (tensor(1, device='cuda:0'), tensor(1, device='cuda:0')), (tensor(1, device='cuda:0'), tensor(1, device='cuda:0')), (tensor(0, device='cuda:0'), tensor(0, device='cuda:0')), (tensor(3, device='cuda:0'), tensor(3, device='cuda:0')), (tensor(0, device='cuda:0'), tensor(0, device='cuda:0')), (tensor(2, device='cuda:0'), tensor(2, device='cuda:0')), (tensor(4, device='cuda:0'), tensor(4, device='cuda:0')), (tensor(3, device='cuda:0'), tensor(3, device='cuda:0')), (tensor(4, device='cuda:0'), tensor(2, device='cuda:0')), (tensor(1, device='cuda:0'), tensor(1, device='cuda:0')), (tensor(1, device='cuda:0'), tensor(1, device='cuda:0')), (tensor(0, device='cuda:0'), tensor(0, device='cuda:0')), (tensor(6, device='cuda:0'), tensor(6, device='cuda:0')), (tensor(6, device='cuda:0'), tensor(6, device='cuda:0')), (tensor(4, device='cuda:0'), tensor(4, device='cuda:0')), (tensor(0, device='cuda:0'), tensor(0, device='cuda:0')), (tensor(4, device='cuda:0'), tensor(4, device='cuda:0')), (tensor(6, device='cuda:0'), tensor(6, device='cuda:0')), (tensor(1, device='cuda:0'), tensor(1, device='cuda:0')), (tensor(5, device='cuda:0'), tensor(5, device='cuda:0')), (tensor(6, device='cuda:0'), tensor(6, device='cuda:0')), (tensor(0, device='cuda:0'), tensor(4, device='cuda:0')), (tensor(0, device='cuda:0'), tensor(6, device='cuda:0')), (tensor(1, device='cuda:0'), tensor(1, device='cuda:0')), (tensor(4, device='cuda:0'), tensor(4, device='cuda:0')), (tensor(4, device='cuda:0'), tensor(4, device='cuda:0')), (tensor(0, device='cuda:0'), tensor(0, device='cuda:0')), (tensor(0, device='cuda:0'), tensor(0, device='cuda:0')), (tensor(4, device='cuda:0'), tensor(4, device='cuda:0')), (tensor(4, device='cuda:0'), tensor(4, device='cuda:0')), (tensor(6, device='cuda:0'), tensor(6, device='cuda:0')), (tensor(0, device='cuda:0'), tensor(0, device='cuda:0')), (tensor(4, device='cuda:0'), tensor(4, device='cuda:0')), (tensor(3, device='cuda:0'), tensor(3, device='cuda:0')), (tensor(4, device='cuda:0'), tensor(4, device='cuda:0')), (tensor(5, device='cuda:0'), tensor(5, device='cuda:0')), (tensor(3, device='cuda:0'), tensor(3, device='cuda:0')), (tensor(0, device='cuda:0'), tensor(0, device='cuda:0')), (tensor(3, device='cuda:0'), tensor(3, device='cuda:0')), (tensor(6, device='cuda:0'), tensor(6, device='cuda:0')), (tensor(4, device='cuda:0'), tensor(4, device='cuda:0')), (tensor(4, device='cuda:0'), tensor(4, device='cuda:0'))]\n",
      "[(tensor(0, device='cuda:0'), tensor(0, device='cuda:0')), (tensor(3, device='cuda:0'), tensor(3, device='cuda:0')), (tensor(6, device='cuda:0'), tensor(6, device='cuda:0')), (tensor(1, device='cuda:0'), tensor(1, device='cuda:0')), (tensor(4, device='cuda:0'), tensor(4, device='cuda:0')), (tensor(6, device='cuda:0'), tensor(6, device='cuda:0')), (tensor(2, device='cuda:0'), tensor(2, device='cuda:0')), (tensor(4, device='cuda:0'), tensor(4, device='cuda:0')), (tensor(3, device='cuda:0'), tensor(3, device='cuda:0')), (tensor(0, device='cuda:0'), tensor(0, device='cuda:0')), (tensor(4, device='cuda:0'), tensor(4, device='cuda:0')), (tensor(3, device='cuda:0'), tensor(3, device='cuda:0')), (tensor(0, device='cuda:0'), tensor(2, device='cuda:0')), (tensor(3, device='cuda:0'), tensor(3, device='cuda:0')), (tensor(4, device='cuda:0'), tensor(4, device='cuda:0')), (tensor(3, device='cuda:0'), tensor(3, device='cuda:0')), (tensor(2, device='cuda:0'), tensor(2, device='cuda:0')), (tensor(6, device='cuda:0'), tensor(6, device='cuda:0')), (tensor(6, device='cuda:0'), tensor(6, device='cuda:0')), (tensor(6, device='cuda:0'), tensor(6, device='cuda:0')), (tensor(3, device='cuda:0'), tensor(3, device='cuda:0')), (tensor(0, device='cuda:0'), tensor(0, device='cuda:0')), (tensor(4, device='cuda:0'), tensor(4, device='cuda:0')), (tensor(5, device='cuda:0'), tensor(5, device='cuda:0')), (tensor(0, device='cuda:0'), tensor(0, device='cuda:0')), (tensor(0, device='cuda:0'), tensor(0, device='cuda:0')), (tensor(0, device='cuda:0'), tensor(0, device='cuda:0')), (tensor(3, device='cuda:0'), tensor(3, device='cuda:0')), (tensor(3, device='cuda:0'), tensor(3, device='cuda:0')), (tensor(0, device='cuda:0'), tensor(0, device='cuda:0')), (tensor(3, device='cuda:0'), tensor(3, device='cuda:0')), (tensor(3, device='cuda:0'), tensor(3, device='cuda:0')), (tensor(0, device='cuda:0'), tensor(0, device='cuda:0')), (tensor(4, device='cuda:0'), tensor(4, device='cuda:0')), (tensor(3, device='cuda:0'), tensor(3, device='cuda:0')), (tensor(4, device='cuda:0'), tensor(4, device='cuda:0')), (tensor(1, device='cuda:0'), tensor(1, device='cuda:0')), (tensor(4, device='cuda:0'), tensor(4, device='cuda:0')), (tensor(4, device='cuda:0'), tensor(4, device='cuda:0')), (tensor(2, device='cuda:0'), tensor(2, device='cuda:0')), (tensor(4, device='cuda:0'), tensor(4, device='cuda:0')), (tensor(6, device='cuda:0'), tensor(6, device='cuda:0')), (tensor(6, device='cuda:0'), tensor(6, device='cuda:0')), (tensor(2, device='cuda:0'), tensor(2, device='cuda:0')), (tensor(3, device='cuda:0'), tensor(3, device='cuda:0')), (tensor(4, device='cuda:0'), tensor(4, device='cuda:0')), (tensor(4, device='cuda:0'), tensor(4, device='cuda:0')), (tensor(3, device='cuda:0'), tensor(3, device='cuda:0')), (tensor(4, device='cuda:0'), tensor(4, device='cuda:0')), (tensor(0, device='cuda:0'), tensor(0, device='cuda:0')), (tensor(3, device='cuda:0'), tensor(3, device='cuda:0')), (tensor(1, device='cuda:0'), tensor(1, device='cuda:0')), (tensor(6, device='cuda:0'), tensor(6, device='cuda:0')), (tensor(5, device='cuda:0'), tensor(5, device='cuda:0')), (tensor(4, device='cuda:0'), tensor(4, device='cuda:0')), (tensor(3, device='cuda:0'), tensor(3, device='cuda:0')), (tensor(3, device='cuda:0'), tensor(3, device='cuda:0')), (tensor(3, device='cuda:0'), tensor(3, device='cuda:0')), (tensor(3, device='cuda:0'), tensor(3, device='cuda:0')), (tensor(4, device='cuda:0'), tensor(4, device='cuda:0')), (tensor(3, device='cuda:0'), tensor(3, device='cuda:0')), (tensor(4, device='cuda:0'), tensor(4, device='cuda:0')), (tensor(4, device='cuda:0'), tensor(4, device='cuda:0')), (tensor(0, device='cuda:0'), tensor(0, device='cuda:0')), (tensor(4, device='cuda:0'), tensor(4, device='cuda:0')), (tensor(3, device='cuda:0'), tensor(3, device='cuda:0')), (tensor(1, device='cuda:0'), tensor(1, device='cuda:0')), (tensor(3, device='cuda:0'), tensor(3, device='cuda:0')), (tensor(3, device='cuda:0'), tensor(3, device='cuda:0')), (tensor(4, device='cuda:0'), tensor(4, device='cuda:0')), (tensor(3, device='cuda:0'), tensor(3, device='cuda:0')), (tensor(6, device='cuda:0'), tensor(6, device='cuda:0')), (tensor(3, device='cuda:0'), tensor(3, device='cuda:0')), (tensor(1, device='cuda:0'), tensor(1, device='cuda:0')), (tensor(4, device='cuda:0'), tensor(4, device='cuda:0')), (tensor(6, device='cuda:0'), tensor(6, device='cuda:0')), (tensor(6, device='cuda:0'), tensor(6, device='cuda:0')), (tensor(5, device='cuda:0'), tensor(5, device='cuda:0')), (tensor(4, device='cuda:0'), tensor(4, device='cuda:0')), (tensor(4, device='cuda:0'), tensor(4, device='cuda:0')), (tensor(3, device='cuda:0'), tensor(3, device='cuda:0')), (tensor(1, device='cuda:0'), tensor(1, device='cuda:0')), (tensor(6, device='cuda:0'), tensor(6, device='cuda:0')), (tensor(3, device='cuda:0'), tensor(3, device='cuda:0')), (tensor(6, device='cuda:0'), tensor(6, device='cuda:0')), (tensor(4, device='cuda:0'), tensor(4, device='cuda:0')), (tensor(0, device='cuda:0'), tensor(0, device='cuda:0')), (tensor(4, device='cuda:0'), tensor(4, device='cuda:0')), (tensor(3, device='cuda:0'), tensor(3, device='cuda:0')), (tensor(6, device='cuda:0'), tensor(6, device='cuda:0')), (tensor(2, device='cuda:0'), tensor(2, device='cuda:0')), (tensor(1, device='cuda:0'), tensor(1, device='cuda:0')), (tensor(4, device='cuda:0'), tensor(4, device='cuda:0')), (tensor(3, device='cuda:0'), tensor(3, device='cuda:0')), (tensor(4, device='cuda:0'), tensor(4, device='cuda:0')), (tensor(4, device='cuda:0'), tensor(4, device='cuda:0')), (tensor(6, device='cuda:0'), tensor(6, device='cuda:0')), (tensor(4, device='cuda:0'), tensor(4, device='cuda:0')), (tensor(5, device='cuda:0'), tensor(5, device='cuda:0')), (tensor(3, device='cuda:0'), tensor(3, device='cuda:0')), (tensor(6, device='cuda:0'), tensor(6, device='cuda:0')), (tensor(4, device='cuda:0'), tensor(4, device='cuda:0')), (tensor(6, device='cuda:0'), tensor(6, device='cuda:0')), (tensor(1, device='cuda:0'), tensor(1, device='cuda:0')), (tensor(4, device='cuda:0'), tensor(4, device='cuda:0')), (tensor(4, device='cuda:0'), tensor(4, device='cuda:0')), (tensor(4, device='cuda:0'), tensor(4, device='cuda:0')), (tensor(4, device='cuda:0'), tensor(4, device='cuda:0')), (tensor(4, device='cuda:0'), tensor(4, device='cuda:0')), (tensor(4, device='cuda:0'), tensor(4, device='cuda:0')), (tensor(2, device='cuda:0'), tensor(2, device='cuda:0')), (tensor(1, device='cuda:0'), tensor(1, device='cuda:0')), (tensor(1, device='cuda:0'), tensor(2, device='cuda:0')), (tensor(4, device='cuda:0'), tensor(4, device='cuda:0')), (tensor(4, device='cuda:0'), tensor(4, device='cuda:0')), (tensor(2, device='cuda:0'), tensor(2, device='cuda:0')), (tensor(3, device='cuda:0'), tensor(3, device='cuda:0')), (tensor(3, device='cuda:0'), tensor(3, device='cuda:0')), (tensor(6, device='cuda:0'), tensor(6, device='cuda:0')), (tensor(4, device='cuda:0'), tensor(2, device='cuda:0')), (tensor(4, device='cuda:0'), tensor(4, device='cuda:0')), (tensor(3, device='cuda:0'), tensor(3, device='cuda:0')), (tensor(6, device='cuda:0'), tensor(6, device='cuda:0')), (tensor(4, device='cuda:0'), tensor(4, device='cuda:0')), (tensor(0, device='cuda:0'), tensor(0, device='cuda:0')), (tensor(1, device='cuda:0'), tensor(1, device='cuda:0')), (tensor(0, device='cuda:0'), tensor(0, device='cuda:0')), (tensor(3, device='cuda:0'), tensor(3, device='cuda:0')), (tensor(0, device='cuda:0'), tensor(0, device='cuda:0'))]\n",
      "[(tensor(6, device='cuda:0'), tensor(6, device='cuda:0')), (tensor(3, device='cuda:0'), tensor(3, device='cuda:0')), (tensor(4, device='cuda:0'), tensor(4, device='cuda:0')), (tensor(3, device='cuda:0'), tensor(3, device='cuda:0')), (tensor(3, device='cuda:0'), tensor(3, device='cuda:0')), (tensor(3, device='cuda:0'), tensor(3, device='cuda:0')), (tensor(4, device='cuda:0'), tensor(4, device='cuda:0')), (tensor(6, device='cuda:0'), tensor(6, device='cuda:0')), (tensor(3, device='cuda:0'), tensor(3, device='cuda:0')), (tensor(3, device='cuda:0'), tensor(3, device='cuda:0')), (tensor(6, device='cuda:0'), tensor(6, device='cuda:0')), (tensor(4, device='cuda:0'), tensor(4, device='cuda:0')), (tensor(4, device='cuda:0'), tensor(4, device='cuda:0')), (tensor(3, device='cuda:0'), tensor(3, device='cuda:0')), (tensor(3, device='cuda:0'), tensor(3, device='cuda:0')), (tensor(3, device='cuda:0'), tensor(3, device='cuda:0')), (tensor(4, device='cuda:0'), tensor(4, device='cuda:0')), (tensor(3, device='cuda:0'), tensor(3, device='cuda:0')), (tensor(3, device='cuda:0'), tensor(3, device='cuda:0')), (tensor(4, device='cuda:0'), tensor(4, device='cuda:0')), (tensor(6, device='cuda:0'), tensor(6, device='cuda:0')), (tensor(3, device='cuda:0'), tensor(3, device='cuda:0')), (tensor(0, device='cuda:0'), tensor(0, device='cuda:0')), (tensor(3, device='cuda:0'), tensor(3, device='cuda:0')), (tensor(4, device='cuda:0'), tensor(4, device='cuda:0')), (tensor(1, device='cuda:0'), tensor(1, device='cuda:0')), (tensor(4, device='cuda:0'), tensor(4, device='cuda:0')), (tensor(2, device='cuda:0'), tensor(2, device='cuda:0')), (tensor(3, device='cuda:0'), tensor(3, device='cuda:0')), (tensor(3, device='cuda:0'), tensor(3, device='cuda:0')), (tensor(4, device='cuda:0'), tensor(4, device='cuda:0')), (tensor(2, device='cuda:0'), tensor(2, device='cuda:0')), (tensor(3, device='cuda:0'), tensor(3, device='cuda:0')), (tensor(3, device='cuda:0'), tensor(3, device='cuda:0')), (tensor(0, device='cuda:0'), tensor(0, device='cuda:0')), (tensor(6, device='cuda:0'), tensor(6, device='cuda:0')), (tensor(0, device='cuda:0'), tensor(0, device='cuda:0')), (tensor(0, device='cuda:0'), tensor(0, device='cuda:0')), (tensor(6, device='cuda:0'), tensor(6, device='cuda:0')), (tensor(5, device='cuda:0'), tensor(5, device='cuda:0')), (tensor(1, device='cuda:0'), tensor(1, device='cuda:0')), (tensor(4, device='cuda:0'), tensor(4, device='cuda:0')), (tensor(3, device='cuda:0'), tensor(3, device='cuda:0')), (tensor(3, device='cuda:0'), tensor(3, device='cuda:0')), (tensor(3, device='cuda:0'), tensor(3, device='cuda:0')), (tensor(4, device='cuda:0'), tensor(4, device='cuda:0')), (tensor(5, device='cuda:0'), tensor(5, device='cuda:0')), (tensor(3, device='cuda:0'), tensor(3, device='cuda:0')), (tensor(0, device='cuda:0'), tensor(0, device='cuda:0')), (tensor(3, device='cuda:0'), tensor(3, device='cuda:0')), (tensor(4, device='cuda:0'), tensor(4, device='cuda:0')), (tensor(0, device='cuda:0'), tensor(0, device='cuda:0')), (tensor(3, device='cuda:0'), tensor(3, device='cuda:0')), (tensor(4, device='cuda:0'), tensor(4, device='cuda:0')), (tensor(5, device='cuda:0'), tensor(4, device='cuda:0')), (tensor(6, device='cuda:0'), tensor(6, device='cuda:0')), (tensor(4, device='cuda:0'), tensor(4, device='cuda:0')), (tensor(5, device='cuda:0'), tensor(5, device='cuda:0')), (tensor(4, device='cuda:0'), tensor(4, device='cuda:0')), (tensor(0, device='cuda:0'), tensor(0, device='cuda:0')), (tensor(4, device='cuda:0'), tensor(4, device='cuda:0')), (tensor(1, device='cuda:0'), tensor(1, device='cuda:0')), (tensor(4, device='cuda:0'), tensor(4, device='cuda:0')), (tensor(5, device='cuda:0'), tensor(5, device='cuda:0')), (tensor(0, device='cuda:0'), tensor(0, device='cuda:0')), (tensor(4, device='cuda:0'), tensor(4, device='cuda:0')), (tensor(4, device='cuda:0'), tensor(4, device='cuda:0')), (tensor(6, device='cuda:0'), tensor(6, device='cuda:0')), (tensor(3, device='cuda:0'), tensor(3, device='cuda:0')), (tensor(4, device='cuda:0'), tensor(4, device='cuda:0')), (tensor(5, device='cuda:0'), tensor(5, device='cuda:0')), (tensor(1, device='cuda:0'), tensor(1, device='cuda:0')), (tensor(3, device='cuda:0'), tensor(3, device='cuda:0')), (tensor(2, device='cuda:0'), tensor(2, device='cuda:0')), (tensor(1, device='cuda:0'), tensor(1, device='cuda:0')), (tensor(3, device='cuda:0'), tensor(3, device='cuda:0')), (tensor(1, device='cuda:0'), tensor(1, device='cuda:0')), (tensor(4, device='cuda:0'), tensor(4, device='cuda:0')), (tensor(5, device='cuda:0'), tensor(5, device='cuda:0')), (tensor(4, device='cuda:0'), tensor(4, device='cuda:0')), (tensor(3, device='cuda:0'), tensor(3, device='cuda:0')), (tensor(6, device='cuda:0'), tensor(6, device='cuda:0')), (tensor(6, device='cuda:0'), tensor(6, device='cuda:0')), (tensor(4, device='cuda:0'), tensor(4, device='cuda:0')), (tensor(3, device='cuda:0'), tensor(3, device='cuda:0')), (tensor(3, device='cuda:0'), tensor(3, device='cuda:0')), (tensor(4, device='cuda:0'), tensor(4, device='cuda:0')), (tensor(4, device='cuda:0'), tensor(4, device='cuda:0')), (tensor(3, device='cuda:0'), tensor(3, device='cuda:0')), (tensor(5, device='cuda:0'), tensor(5, device='cuda:0')), (tensor(4, device='cuda:0'), tensor(4, device='cuda:0')), (tensor(3, device='cuda:0'), tensor(3, device='cuda:0')), (tensor(6, device='cuda:0'), tensor(6, device='cuda:0')), (tensor(4, device='cuda:0'), tensor(4, device='cuda:0')), (tensor(0, device='cuda:0'), tensor(0, device='cuda:0')), (tensor(0, device='cuda:0'), tensor(0, device='cuda:0')), (tensor(5, device='cuda:0'), tensor(5, device='cuda:0')), (tensor(3, device='cuda:0'), tensor(3, device='cuda:0')), (tensor(4, device='cuda:0'), tensor(4, device='cuda:0')), (tensor(1, device='cuda:0'), tensor(4, device='cuda:0')), (tensor(4, device='cuda:0'), tensor(4, device='cuda:0')), (tensor(0, device='cuda:0'), tensor(0, device='cuda:0')), (tensor(4, device='cuda:0'), tensor(4, device='cuda:0')), (tensor(0, device='cuda:0'), tensor(0, device='cuda:0')), (tensor(3, device='cuda:0'), tensor(3, device='cuda:0')), (tensor(5, device='cuda:0'), tensor(5, device='cuda:0')), (tensor(4, device='cuda:0'), tensor(4, device='cuda:0')), (tensor(0, device='cuda:0'), tensor(0, device='cuda:0')), (tensor(6, device='cuda:0'), tensor(6, device='cuda:0')), (tensor(0, device='cuda:0'), tensor(0, device='cuda:0')), (tensor(5, device='cuda:0'), tensor(5, device='cuda:0')), (tensor(5, device='cuda:0'), tensor(5, device='cuda:0')), (tensor(6, device='cuda:0'), tensor(6, device='cuda:0')), (tensor(0, device='cuda:0'), tensor(0, device='cuda:0')), (tensor(4, device='cuda:0'), tensor(4, device='cuda:0')), (tensor(3, device='cuda:0'), tensor(3, device='cuda:0')), (tensor(0, device='cuda:0'), tensor(0, device='cuda:0')), (tensor(6, device='cuda:0'), tensor(6, device='cuda:0')), (tensor(4, device='cuda:0'), tensor(4, device='cuda:0')), (tensor(3, device='cuda:0'), tensor(3, device='cuda:0')), (tensor(0, device='cuda:0'), tensor(0, device='cuda:0')), (tensor(3, device='cuda:0'), tensor(3, device='cuda:0')), (tensor(1, device='cuda:0'), tensor(1, device='cuda:0')), (tensor(4, device='cuda:0'), tensor(4, device='cuda:0')), (tensor(0, device='cuda:0'), tensor(0, device='cuda:0')), (tensor(3, device='cuda:0'), tensor(3, device='cuda:0')), (tensor(3, device='cuda:0'), tensor(3, device='cuda:0')), (tensor(6, device='cuda:0'), tensor(6, device='cuda:0')), (tensor(0, device='cuda:0'), tensor(4, device='cuda:0'))]\n",
      "[(tensor(1, device='cuda:0'), tensor(1, device='cuda:0')), (tensor(4, device='cuda:0'), tensor(4, device='cuda:0')), (tensor(4, device='cuda:0'), tensor(4, device='cuda:0')), (tensor(3, device='cuda:0'), tensor(3, device='cuda:0')), (tensor(3, device='cuda:0'), tensor(3, device='cuda:0')), (tensor(6, device='cuda:0'), tensor(6, device='cuda:0')), (tensor(0, device='cuda:0'), tensor(0, device='cuda:0')), (tensor(4, device='cuda:0'), tensor(4, device='cuda:0')), (tensor(4, device='cuda:0'), tensor(4, device='cuda:0')), (tensor(5, device='cuda:0'), tensor(5, device='cuda:0')), (tensor(3, device='cuda:0'), tensor(3, device='cuda:0')), (tensor(3, device='cuda:0'), tensor(3, device='cuda:0')), (tensor(3, device='cuda:0'), tensor(3, device='cuda:0')), (tensor(5, device='cuda:0'), tensor(5, device='cuda:0')), (tensor(2, device='cuda:0'), tensor(2, device='cuda:0')), (tensor(5, device='cuda:0'), tensor(5, device='cuda:0')), (tensor(6, device='cuda:0'), tensor(6, device='cuda:0')), (tensor(5, device='cuda:0'), tensor(5, device='cuda:0')), (tensor(3, device='cuda:0'), tensor(3, device='cuda:0')), (tensor(3, device='cuda:0'), tensor(3, device='cuda:0')), (tensor(1, device='cuda:0'), tensor(1, device='cuda:0')), (tensor(0, device='cuda:0'), tensor(0, device='cuda:0')), (tensor(0, device='cuda:0'), tensor(0, device='cuda:0')), (tensor(4, device='cuda:0'), tensor(4, device='cuda:0')), (tensor(6, device='cuda:0'), tensor(6, device='cuda:0')), (tensor(4, device='cuda:0'), tensor(4, device='cuda:0')), (tensor(3, device='cuda:0'), tensor(3, device='cuda:0')), (tensor(1, device='cuda:0'), tensor(1, device='cuda:0')), (tensor(6, device='cuda:0'), tensor(6, device='cuda:0')), (tensor(4, device='cuda:0'), tensor(4, device='cuda:0')), (tensor(3, device='cuda:0'), tensor(3, device='cuda:0')), (tensor(4, device='cuda:0'), tensor(4, device='cuda:0')), (tensor(5, device='cuda:0'), tensor(5, device='cuda:0')), (tensor(4, device='cuda:0'), tensor(4, device='cuda:0')), (tensor(4, device='cuda:0'), tensor(4, device='cuda:0')), (tensor(4, device='cuda:0'), tensor(4, device='cuda:0')), (tensor(0, device='cuda:0'), tensor(0, device='cuda:0')), (tensor(6, device='cuda:0'), tensor(6, device='cuda:0')), (tensor(3, device='cuda:0'), tensor(3, device='cuda:0')), (tensor(3, device='cuda:0'), tensor(3, device='cuda:0')), (tensor(6, device='cuda:0'), tensor(6, device='cuda:0')), (tensor(6, device='cuda:0'), tensor(6, device='cuda:0')), (tensor(0, device='cuda:0'), tensor(0, device='cuda:0')), (tensor(4, device='cuda:0'), tensor(4, device='cuda:0')), (tensor(4, device='cuda:0'), tensor(4, device='cuda:0')), (tensor(3, device='cuda:0'), tensor(3, device='cuda:0')), (tensor(0, device='cuda:0'), tensor(0, device='cuda:0')), (tensor(6, device='cuda:0'), tensor(6, device='cuda:0')), (tensor(4, device='cuda:0'), tensor(4, device='cuda:0')), (tensor(3, device='cuda:0'), tensor(3, device='cuda:0')), (tensor(4, device='cuda:0'), tensor(4, device='cuda:0')), (tensor(4, device='cuda:0'), tensor(4, device='cuda:0')), (tensor(1, device='cuda:0'), tensor(1, device='cuda:0')), (tensor(3, device='cuda:0'), tensor(3, device='cuda:0')), (tensor(4, device='cuda:0'), tensor(4, device='cuda:0')), (tensor(3, device='cuda:0'), tensor(4, device='cuda:0')), (tensor(4, device='cuda:0'), tensor(4, device='cuda:0')), (tensor(6, device='cuda:0'), tensor(6, device='cuda:0')), (tensor(0, device='cuda:0'), tensor(0, device='cuda:0')), (tensor(4, device='cuda:0'), tensor(4, device='cuda:0')), (tensor(3, device='cuda:0'), tensor(3, device='cuda:0')), (tensor(0, device='cuda:0'), tensor(0, device='cuda:0')), (tensor(4, device='cuda:0'), tensor(4, device='cuda:0')), (tensor(3, device='cuda:0'), tensor(3, device='cuda:0')), (tensor(2, device='cuda:0'), tensor(2, device='cuda:0')), (tensor(0, device='cuda:0'), tensor(0, device='cuda:0')), (tensor(5, device='cuda:0'), tensor(5, device='cuda:0')), (tensor(3, device='cuda:0'), tensor(3, device='cuda:0')), (tensor(5, device='cuda:0'), tensor(5, device='cuda:0')), (tensor(0, device='cuda:0'), tensor(0, device='cuda:0')), (tensor(0, device='cuda:0'), tensor(0, device='cuda:0')), (tensor(2, device='cuda:0'), tensor(2, device='cuda:0')), (tensor(4, device='cuda:0'), tensor(4, device='cuda:0')), (tensor(5, device='cuda:0'), tensor(5, device='cuda:0')), (tensor(4, device='cuda:0'), tensor(4, device='cuda:0')), (tensor(4, device='cuda:0'), tensor(4, device='cuda:0')), (tensor(5, device='cuda:0'), tensor(5, device='cuda:0')), (tensor(3, device='cuda:0'), tensor(3, device='cuda:0')), (tensor(4, device='cuda:0'), tensor(4, device='cuda:0')), (tensor(5, device='cuda:0'), tensor(5, device='cuda:0')), (tensor(3, device='cuda:0'), tensor(3, device='cuda:0')), (tensor(6, device='cuda:0'), tensor(6, device='cuda:0')), (tensor(3, device='cuda:0'), tensor(3, device='cuda:0')), (tensor(6, device='cuda:0'), tensor(6, device='cuda:0')), (tensor(6, device='cuda:0'), tensor(0, device='cuda:0')), (tensor(4, device='cuda:0'), tensor(4, device='cuda:0')), (tensor(4, device='cuda:0'), tensor(4, device='cuda:0')), (tensor(4, device='cuda:0'), tensor(4, device='cuda:0')), (tensor(1, device='cuda:0'), tensor(1, device='cuda:0')), (tensor(4, device='cuda:0'), tensor(4, device='cuda:0')), (tensor(3, device='cuda:0'), tensor(3, device='cuda:0')), (tensor(1, device='cuda:0'), tensor(1, device='cuda:0')), (tensor(4, device='cuda:0'), tensor(4, device='cuda:0')), (tensor(0, device='cuda:0'), tensor(0, device='cuda:0')), (tensor(4, device='cuda:0'), tensor(4, device='cuda:0')), (tensor(0, device='cuda:0'), tensor(0, device='cuda:0')), (tensor(3, device='cuda:0'), tensor(3, device='cuda:0')), (tensor(3, device='cuda:0'), tensor(3, device='cuda:0')), (tensor(4, device='cuda:0'), tensor(4, device='cuda:0')), (tensor(1, device='cuda:0'), tensor(1, device='cuda:0')), (tensor(6, device='cuda:0'), tensor(6, device='cuda:0')), (tensor(4, device='cuda:0'), tensor(4, device='cuda:0')), (tensor(4, device='cuda:0'), tensor(4, device='cuda:0')), (tensor(4, device='cuda:0'), tensor(4, device='cuda:0')), (tensor(0, device='cuda:0'), tensor(0, device='cuda:0')), (tensor(0, device='cuda:0'), tensor(0, device='cuda:0')), (tensor(0, device='cuda:0'), tensor(0, device='cuda:0')), (tensor(4, device='cuda:0'), tensor(4, device='cuda:0')), (tensor(4, device='cuda:0'), tensor(4, device='cuda:0')), (tensor(3, device='cuda:0'), tensor(3, device='cuda:0')), (tensor(0, device='cuda:0'), tensor(0, device='cuda:0')), (tensor(6, device='cuda:0'), tensor(6, device='cuda:0')), (tensor(1, device='cuda:0'), tensor(1, device='cuda:0')), (tensor(4, device='cuda:0'), tensor(4, device='cuda:0')), (tensor(4, device='cuda:0'), tensor(4, device='cuda:0')), (tensor(1, device='cuda:0'), tensor(1, device='cuda:0')), (tensor(3, device='cuda:0'), tensor(3, device='cuda:0')), (tensor(1, device='cuda:0'), tensor(1, device='cuda:0')), (tensor(4, device='cuda:0'), tensor(4, device='cuda:0')), (tensor(3, device='cuda:0'), tensor(3, device='cuda:0')), (tensor(4, device='cuda:0'), tensor(4, device='cuda:0')), (tensor(4, device='cuda:0'), tensor(4, device='cuda:0')), (tensor(6, device='cuda:0'), tensor(6, device='cuda:0')), (tensor(0, device='cuda:0'), tensor(0, device='cuda:0')), (tensor(3, device='cuda:0'), tensor(3, device='cuda:0')), (tensor(4, device='cuda:0'), tensor(4, device='cuda:0')), (tensor(3, device='cuda:0'), tensor(3, device='cuda:0')), (tensor(4, device='cuda:0'), tensor(4, device='cuda:0')), (tensor(6, device='cuda:0'), tensor(6, device='cuda:0'))]\n",
      "[(tensor(3, device='cuda:0'), tensor(3, device='cuda:0')), (tensor(6, device='cuda:0'), tensor(6, device='cuda:0')), (tensor(3, device='cuda:0'), tensor(3, device='cuda:0')), (tensor(0, device='cuda:0'), tensor(0, device='cuda:0')), (tensor(4, device='cuda:0'), tensor(4, device='cuda:0')), (tensor(6, device='cuda:0'), tensor(0, device='cuda:0')), (tensor(1, device='cuda:0'), tensor(1, device='cuda:0')), (tensor(3, device='cuda:0'), tensor(3, device='cuda:0')), (tensor(4, device='cuda:0'), tensor(4, device='cuda:0')), (tensor(6, device='cuda:0'), tensor(6, device='cuda:0')), (tensor(6, device='cuda:0'), tensor(6, device='cuda:0')), (tensor(3, device='cuda:0'), tensor(3, device='cuda:0')), (tensor(6, device='cuda:0'), tensor(6, device='cuda:0')), (tensor(4, device='cuda:0'), tensor(4, device='cuda:0')), (tensor(3, device='cuda:0'), tensor(3, device='cuda:0')), (tensor(1, device='cuda:0'), tensor(1, device='cuda:0')), (tensor(3, device='cuda:0'), tensor(3, device='cuda:0')), (tensor(1, device='cuda:0'), tensor(1, device='cuda:0')), (tensor(3, device='cuda:0'), tensor(3, device='cuda:0')), (tensor(2, device='cuda:0'), tensor(2, device='cuda:0')), (tensor(6, device='cuda:0'), tensor(6, device='cuda:0')), (tensor(3, device='cuda:0'), tensor(3, device='cuda:0')), (tensor(4, device='cuda:0'), tensor(4, device='cuda:0')), (tensor(3, device='cuda:0'), tensor(3, device='cuda:0')), (tensor(1, device='cuda:0'), tensor(1, device='cuda:0')), (tensor(4, device='cuda:0'), tensor(4, device='cuda:0')), (tensor(0, device='cuda:0'), tensor(0, device='cuda:0')), (tensor(4, device='cuda:0'), tensor(4, device='cuda:0')), (tensor(3, device='cuda:0'), tensor(3, device='cuda:0')), (tensor(0, device='cuda:0'), tensor(0, device='cuda:0')), (tensor(3, device='cuda:0'), tensor(3, device='cuda:0')), (tensor(3, device='cuda:0'), tensor(3, device='cuda:0')), (tensor(0, device='cuda:0'), tensor(0, device='cuda:0')), (tensor(0, device='cuda:0'), tensor(0, device='cuda:0')), (tensor(5, device='cuda:0'), tensor(2, device='cuda:0')), (tensor(6, device='cuda:0'), tensor(6, device='cuda:0')), (tensor(0, device='cuda:0'), tensor(0, device='cuda:0')), (tensor(3, device='cuda:0'), tensor(3, device='cuda:0')), (tensor(4, device='cuda:0'), tensor(4, device='cuda:0')), (tensor(2, device='cuda:0'), tensor(2, device='cuda:0')), (tensor(4, device='cuda:0'), tensor(4, device='cuda:0')), (tensor(4, device='cuda:0'), tensor(4, device='cuda:0')), (tensor(6, device='cuda:0'), tensor(6, device='cuda:0')), (tensor(4, device='cuda:0'), tensor(4, device='cuda:0')), (tensor(3, device='cuda:0'), tensor(3, device='cuda:0')), (tensor(0, device='cuda:0'), tensor(0, device='cuda:0')), (tensor(4, device='cuda:0'), tensor(4, device='cuda:0')), (tensor(0, device='cuda:0'), tensor(0, device='cuda:0')), (tensor(4, device='cuda:0'), tensor(4, device='cuda:0')), (tensor(5, device='cuda:0'), tensor(5, device='cuda:0')), (tensor(0, device='cuda:0'), tensor(0, device='cuda:0')), (tensor(3, device='cuda:0'), tensor(3, device='cuda:0')), (tensor(4, device='cuda:0'), tensor(4, device='cuda:0')), (tensor(4, device='cuda:0'), tensor(4, device='cuda:0')), (tensor(3, device='cuda:0'), tensor(3, device='cuda:0')), (tensor(4, device='cuda:0'), tensor(4, device='cuda:0')), (tensor(4, device='cuda:0'), tensor(4, device='cuda:0')), (tensor(4, device='cuda:0'), tensor(4, device='cuda:0')), (tensor(6, device='cuda:0'), tensor(6, device='cuda:0')), (tensor(3, device='cuda:0'), tensor(3, device='cuda:0')), (tensor(4, device='cuda:0'), tensor(2, device='cuda:0')), (tensor(0, device='cuda:0'), tensor(2, device='cuda:0')), (tensor(4, device='cuda:0'), tensor(4, device='cuda:0')), (tensor(4, device='cuda:0'), tensor(4, device='cuda:0')), (tensor(4, device='cuda:0'), tensor(4, device='cuda:0')), (tensor(0, device='cuda:0'), tensor(0, device='cuda:0')), (tensor(2, device='cuda:0'), tensor(2, device='cuda:0')), (tensor(3, device='cuda:0'), tensor(3, device='cuda:0')), (tensor(5, device='cuda:0'), tensor(5, device='cuda:0')), (tensor(4, device='cuda:0'), tensor(4, device='cuda:0')), (tensor(3, device='cuda:0'), tensor(3, device='cuda:0')), (tensor(6, device='cuda:0'), tensor(6, device='cuda:0')), (tensor(3, device='cuda:0'), tensor(3, device='cuda:0')), (tensor(6, device='cuda:0'), tensor(6, device='cuda:0')), (tensor(6, device='cuda:0'), tensor(6, device='cuda:0')), (tensor(3, device='cuda:0'), tensor(3, device='cuda:0')), (tensor(4, device='cuda:0'), tensor(4, device='cuda:0')), (tensor(4, device='cuda:0'), tensor(4, device='cuda:0')), (tensor(4, device='cuda:0'), tensor(4, device='cuda:0')), (tensor(4, device='cuda:0'), tensor(4, device='cuda:0')), (tensor(3, device='cuda:0'), tensor(3, device='cuda:0')), (tensor(4, device='cuda:0'), tensor(4, device='cuda:0')), (tensor(4, device='cuda:0'), tensor(2, device='cuda:0')), (tensor(4, device='cuda:0'), tensor(4, device='cuda:0')), (tensor(5, device='cuda:0'), tensor(5, device='cuda:0')), (tensor(4, device='cuda:0'), tensor(4, device='cuda:0')), (tensor(0, device='cuda:0'), tensor(0, device='cuda:0')), (tensor(4, device='cuda:0'), tensor(4, device='cuda:0')), (tensor(4, device='cuda:0'), tensor(4, device='cuda:0')), (tensor(4, device='cuda:0'), tensor(4, device='cuda:0')), (tensor(4, device='cuda:0'), tensor(4, device='cuda:0')), (tensor(3, device='cuda:0'), tensor(3, device='cuda:0')), (tensor(3, device='cuda:0'), tensor(3, device='cuda:0')), (tensor(3, device='cuda:0'), tensor(3, device='cuda:0')), (tensor(3, device='cuda:0'), tensor(3, device='cuda:0')), (tensor(4, device='cuda:0'), tensor(4, device='cuda:0')), (tensor(3, device='cuda:0'), tensor(3, device='cuda:0')), (tensor(4, device='cuda:0'), tensor(4, device='cuda:0')), (tensor(0, device='cuda:0'), tensor(1, device='cuda:0')), (tensor(1, device='cuda:0'), tensor(1, device='cuda:0')), (tensor(5, device='cuda:0'), tensor(5, device='cuda:0')), (tensor(3, device='cuda:0'), tensor(3, device='cuda:0')), (tensor(6, device='cuda:0'), tensor(6, device='cuda:0')), (tensor(4, device='cuda:0'), tensor(4, device='cuda:0')), (tensor(3, device='cuda:0'), tensor(3, device='cuda:0')), (tensor(2, device='cuda:0'), tensor(2, device='cuda:0')), (tensor(3, device='cuda:0'), tensor(3, device='cuda:0')), (tensor(3, device='cuda:0'), tensor(3, device='cuda:0')), (tensor(1, device='cuda:0'), tensor(1, device='cuda:0')), (tensor(3, device='cuda:0'), tensor(3, device='cuda:0')), (tensor(4, device='cuda:0'), tensor(4, device='cuda:0')), (tensor(3, device='cuda:0'), tensor(3, device='cuda:0')), (tensor(6, device='cuda:0'), tensor(6, device='cuda:0')), (tensor(0, device='cuda:0'), tensor(0, device='cuda:0')), (tensor(2, device='cuda:0'), tensor(2, device='cuda:0')), (tensor(0, device='cuda:0'), tensor(0, device='cuda:0')), (tensor(4, device='cuda:0'), tensor(4, device='cuda:0')), (tensor(4, device='cuda:0'), tensor(4, device='cuda:0')), (tensor(6, device='cuda:0'), tensor(6, device='cuda:0')), (tensor(6, device='cuda:0'), tensor(6, device='cuda:0')), (tensor(4, device='cuda:0'), tensor(4, device='cuda:0')), (tensor(1, device='cuda:0'), tensor(1, device='cuda:0')), (tensor(4, device='cuda:0'), tensor(4, device='cuda:0')), (tensor(2, device='cuda:0'), tensor(2, device='cuda:0')), (tensor(4, device='cuda:0'), tensor(4, device='cuda:0')), (tensor(4, device='cuda:0'), tensor(4, device='cuda:0')), (tensor(3, device='cuda:0'), tensor(3, device='cuda:0')), (tensor(4, device='cuda:0'), tensor(4, device='cuda:0')), (tensor(6, device='cuda:0'), tensor(6, device='cuda:0'))]\n",
      "[(tensor(0, device='cuda:0'), tensor(0, device='cuda:0')), (tensor(4, device='cuda:0'), tensor(4, device='cuda:0')), (tensor(4, device='cuda:0'), tensor(4, device='cuda:0')), (tensor(2, device='cuda:0'), tensor(2, device='cuda:0')), (tensor(2, device='cuda:0'), tensor(2, device='cuda:0')), (tensor(3, device='cuda:0'), tensor(3, device='cuda:0')), (tensor(3, device='cuda:0'), tensor(3, device='cuda:0')), (tensor(3, device='cuda:0'), tensor(3, device='cuda:0')), (tensor(0, device='cuda:0'), tensor(0, device='cuda:0')), (tensor(5, device='cuda:0'), tensor(5, device='cuda:0')), (tensor(4, device='cuda:0'), tensor(4, device='cuda:0')), (tensor(6, device='cuda:0'), tensor(6, device='cuda:0')), (tensor(0, device='cuda:0'), tensor(0, device='cuda:0')), (tensor(2, device='cuda:0'), tensor(2, device='cuda:0')), (tensor(0, device='cuda:0'), tensor(0, device='cuda:0')), (tensor(4, device='cuda:0'), tensor(4, device='cuda:0')), (tensor(5, device='cuda:0'), tensor(4, device='cuda:0')), (tensor(6, device='cuda:0'), tensor(6, device='cuda:0')), (tensor(3, device='cuda:0'), tensor(3, device='cuda:0')), (tensor(4, device='cuda:0'), tensor(4, device='cuda:0')), (tensor(4, device='cuda:0'), tensor(4, device='cuda:0')), (tensor(4, device='cuda:0'), tensor(4, device='cuda:0')), (tensor(2, device='cuda:0'), tensor(2, device='cuda:0')), (tensor(0, device='cuda:0'), tensor(2, device='cuda:0')), (tensor(6, device='cuda:0'), tensor(6, device='cuda:0')), (tensor(5, device='cuda:0'), tensor(5, device='cuda:0')), (tensor(4, device='cuda:0'), tensor(4, device='cuda:0')), (tensor(3, device='cuda:0'), tensor(3, device='cuda:0')), (tensor(5, device='cuda:0'), tensor(5, device='cuda:0')), (tensor(4, device='cuda:0'), tensor(4, device='cuda:0')), (tensor(4, device='cuda:0'), tensor(4, device='cuda:0')), (tensor(4, device='cuda:0'), tensor(4, device='cuda:0')), (tensor(4, device='cuda:0'), tensor(4, device='cuda:0')), (tensor(3, device='cuda:0'), tensor(3, device='cuda:0')), (tensor(3, device='cuda:0'), tensor(3, device='cuda:0')), (tensor(1, device='cuda:0'), tensor(1, device='cuda:0')), (tensor(0, device='cuda:0'), tensor(0, device='cuda:0')), (tensor(0, device='cuda:0'), tensor(0, device='cuda:0')), (tensor(3, device='cuda:0'), tensor(3, device='cuda:0')), (tensor(6, device='cuda:0'), tensor(6, device='cuda:0')), (tensor(4, device='cuda:0'), tensor(4, device='cuda:0')), (tensor(4, device='cuda:0'), tensor(4, device='cuda:0')), (tensor(0, device='cuda:0'), tensor(0, device='cuda:0')), (tensor(4, device='cuda:0'), tensor(4, device='cuda:0')), (tensor(4, device='cuda:0'), tensor(4, device='cuda:0')), (tensor(4, device='cuda:0'), tensor(4, device='cuda:0')), (tensor(4, device='cuda:0'), tensor(4, device='cuda:0')), (tensor(3, device='cuda:0'), tensor(3, device='cuda:0')), (tensor(1, device='cuda:0'), tensor(1, device='cuda:0')), (tensor(4, device='cuda:0'), tensor(4, device='cuda:0')), (tensor(0, device='cuda:0'), tensor(0, device='cuda:0')), (tensor(0, device='cuda:0'), tensor(4, device='cuda:0')), (tensor(3, device='cuda:0'), tensor(3, device='cuda:0')), (tensor(6, device='cuda:0'), tensor(6, device='cuda:0')), (tensor(6, device='cuda:0'), tensor(6, device='cuda:0')), (tensor(5, device='cuda:0'), tensor(2, device='cuda:0')), (tensor(1, device='cuda:0'), tensor(1, device='cuda:0')), (tensor(0, device='cuda:0'), tensor(0, device='cuda:0')), (tensor(0, device='cuda:0'), tensor(0, device='cuda:0')), (tensor(4, device='cuda:0'), tensor(4, device='cuda:0')), (tensor(3, device='cuda:0'), tensor(3, device='cuda:0')), (tensor(4, device='cuda:0'), tensor(4, device='cuda:0')), (tensor(3, device='cuda:0'), tensor(3, device='cuda:0')), (tensor(5, device='cuda:0'), tensor(5, device='cuda:0')), (tensor(3, device='cuda:0'), tensor(3, device='cuda:0')), (tensor(3, device='cuda:0'), tensor(3, device='cuda:0')), (tensor(2, device='cuda:0'), tensor(2, device='cuda:0')), (tensor(3, device='cuda:0'), tensor(3, device='cuda:0')), (tensor(0, device='cuda:0'), tensor(0, device='cuda:0')), (tensor(4, device='cuda:0'), tensor(4, device='cuda:0')), (tensor(0, device='cuda:0'), tensor(0, device='cuda:0')), (tensor(4, device='cuda:0'), tensor(4, device='cuda:0')), (tensor(4, device='cuda:0'), tensor(4, device='cuda:0')), (tensor(3, device='cuda:0'), tensor(3, device='cuda:0')), (tensor(4, device='cuda:0'), tensor(4, device='cuda:0')), (tensor(1, device='cuda:0'), tensor(1, device='cuda:0')), (tensor(6, device='cuda:0'), tensor(6, device='cuda:0')), (tensor(1, device='cuda:0'), tensor(1, device='cuda:0')), (tensor(0, device='cuda:0'), tensor(0, device='cuda:0')), (tensor(3, device='cuda:0'), tensor(3, device='cuda:0')), (tensor(3, device='cuda:0'), tensor(3, device='cuda:0')), (tensor(3, device='cuda:0'), tensor(3, device='cuda:0')), (tensor(0, device='cuda:0'), tensor(0, device='cuda:0')), (tensor(3, device='cuda:0'), tensor(3, device='cuda:0')), (tensor(3, device='cuda:0'), tensor(3, device='cuda:0')), (tensor(3, device='cuda:0'), tensor(3, device='cuda:0')), (tensor(4, device='cuda:0'), tensor(4, device='cuda:0')), (tensor(3, device='cuda:0'), tensor(3, device='cuda:0')), (tensor(3, device='cuda:0'), tensor(3, device='cuda:0')), (tensor(3, device='cuda:0'), tensor(3, device='cuda:0')), (tensor(3, device='cuda:0'), tensor(3, device='cuda:0')), (tensor(0, device='cuda:0'), tensor(0, device='cuda:0')), (tensor(4, device='cuda:0'), tensor(4, device='cuda:0')), (tensor(5, device='cuda:0'), tensor(5, device='cuda:0')), (tensor(3, device='cuda:0'), tensor(3, device='cuda:0')), (tensor(0, device='cuda:0'), tensor(0, device='cuda:0')), (tensor(4, device='cuda:0'), tensor(4, device='cuda:0')), (tensor(3, device='cuda:0'), tensor(3, device='cuda:0')), (tensor(6, device='cuda:0'), tensor(6, device='cuda:0')), (tensor(3, device='cuda:0'), tensor(3, device='cuda:0')), (tensor(0, device='cuda:0'), tensor(0, device='cuda:0')), (tensor(3, device='cuda:0'), tensor(3, device='cuda:0')), (tensor(5, device='cuda:0'), tensor(5, device='cuda:0')), (tensor(4, device='cuda:0'), tensor(4, device='cuda:0')), (tensor(1, device='cuda:0'), tensor(1, device='cuda:0')), (tensor(4, device='cuda:0'), tensor(4, device='cuda:0')), (tensor(4, device='cuda:0'), tensor(4, device='cuda:0')), (tensor(6, device='cuda:0'), tensor(6, device='cuda:0')), (tensor(0, device='cuda:0'), tensor(0, device='cuda:0')), (tensor(4, device='cuda:0'), tensor(2, device='cuda:0')), (tensor(3, device='cuda:0'), tensor(3, device='cuda:0')), (tensor(5, device='cuda:0'), tensor(5, device='cuda:0')), (tensor(1, device='cuda:0'), tensor(1, device='cuda:0')), (tensor(3, device='cuda:0'), tensor(3, device='cuda:0')), (tensor(2, device='cuda:0'), tensor(2, device='cuda:0')), (tensor(3, device='cuda:0'), tensor(3, device='cuda:0')), (tensor(0, device='cuda:0'), tensor(0, device='cuda:0')), (tensor(4, device='cuda:0'), tensor(4, device='cuda:0')), (tensor(4, device='cuda:0'), tensor(4, device='cuda:0')), (tensor(1, device='cuda:0'), tensor(1, device='cuda:0')), (tensor(3, device='cuda:0'), tensor(3, device='cuda:0')), (tensor(3, device='cuda:0'), tensor(3, device='cuda:0')), (tensor(4, device='cuda:0'), tensor(4, device='cuda:0')), (tensor(3, device='cuda:0'), tensor(3, device='cuda:0')), (tensor(0, device='cuda:0'), tensor(0, device='cuda:0')), (tensor(4, device='cuda:0'), tensor(4, device='cuda:0')), (tensor(3, device='cuda:0'), tensor(3, device='cuda:0')), (tensor(6, device='cuda:0'), tensor(6, device='cuda:0')), (tensor(3, device='cuda:0'), tensor(3, device='cuda:0'))]\n",
      "[(tensor(5, device='cuda:0'), tensor(5, device='cuda:0')), (tensor(4, device='cuda:0'), tensor(4, device='cuda:0')), (tensor(6, device='cuda:0'), tensor(6, device='cuda:0')), (tensor(6, device='cuda:0'), tensor(6, device='cuda:0')), (tensor(3, device='cuda:0'), tensor(3, device='cuda:0')), (tensor(4, device='cuda:0'), tensor(4, device='cuda:0')), (tensor(0, device='cuda:0'), tensor(2, device='cuda:0')), (tensor(3, device='cuda:0'), tensor(3, device='cuda:0')), (tensor(3, device='cuda:0'), tensor(3, device='cuda:0')), (tensor(3, device='cuda:0'), tensor(3, device='cuda:0')), (tensor(0, device='cuda:0'), tensor(0, device='cuda:0')), (tensor(3, device='cuda:0'), tensor(3, device='cuda:0')), (tensor(4, device='cuda:0'), tensor(4, device='cuda:0')), (tensor(0, device='cuda:0'), tensor(0, device='cuda:0')), (tensor(3, device='cuda:0'), tensor(3, device='cuda:0')), (tensor(4, device='cuda:0'), tensor(4, device='cuda:0')), (tensor(0, device='cuda:0'), tensor(0, device='cuda:0')), (tensor(3, device='cuda:0'), tensor(3, device='cuda:0')), (tensor(4, device='cuda:0'), tensor(4, device='cuda:0')), (tensor(3, device='cuda:0'), tensor(3, device='cuda:0')), (tensor(5, device='cuda:0'), tensor(5, device='cuda:0')), (tensor(5, device='cuda:0'), tensor(5, device='cuda:0')), (tensor(4, device='cuda:0'), tensor(4, device='cuda:0')), (tensor(4, device='cuda:0'), tensor(4, device='cuda:0')), (tensor(1, device='cuda:0'), tensor(1, device='cuda:0')), (tensor(6, device='cuda:0'), tensor(6, device='cuda:0')), (tensor(3, device='cuda:0'), tensor(3, device='cuda:0')), (tensor(5, device='cuda:0'), tensor(2, device='cuda:0')), (tensor(3, device='cuda:0'), tensor(3, device='cuda:0')), (tensor(3, device='cuda:0'), tensor(3, device='cuda:0')), (tensor(4, device='cuda:0'), tensor(4, device='cuda:0')), (tensor(4, device='cuda:0'), tensor(4, device='cuda:0')), (tensor(5, device='cuda:0'), tensor(5, device='cuda:0')), (tensor(3, device='cuda:0'), tensor(3, device='cuda:0')), (tensor(4, device='cuda:0'), tensor(4, device='cuda:0')), (tensor(3, device='cuda:0'), tensor(3, device='cuda:0')), (tensor(3, device='cuda:0'), tensor(3, device='cuda:0')), (tensor(6, device='cuda:0'), tensor(0, device='cuda:0')), (tensor(4, device='cuda:0'), tensor(4, device='cuda:0')), (tensor(4, device='cuda:0'), tensor(4, device='cuda:0')), (tensor(3, device='cuda:0'), tensor(3, device='cuda:0')), (tensor(1, device='cuda:0'), tensor(1, device='cuda:0')), (tensor(6, device='cuda:0'), tensor(6, device='cuda:0')), (tensor(6, device='cuda:0'), tensor(6, device='cuda:0')), (tensor(4, device='cuda:0'), tensor(4, device='cuda:0')), (tensor(6, device='cuda:0'), tensor(6, device='cuda:0')), (tensor(5, device='cuda:0'), tensor(5, device='cuda:0')), (tensor(0, device='cuda:0'), tensor(4, device='cuda:0')), (tensor(0, device='cuda:0'), tensor(0, device='cuda:0')), (tensor(6, device='cuda:0'), tensor(6, device='cuda:0')), (tensor(3, device='cuda:0'), tensor(3, device='cuda:0')), (tensor(5, device='cuda:0'), tensor(5, device='cuda:0')), (tensor(3, device='cuda:0'), tensor(3, device='cuda:0')), (tensor(6, device='cuda:0'), tensor(6, device='cuda:0')), (tensor(4, device='cuda:0'), tensor(4, device='cuda:0')), (tensor(0, device='cuda:0'), tensor(0, device='cuda:0')), (tensor(0, device='cuda:0'), tensor(0, device='cuda:0')), (tensor(6, device='cuda:0'), tensor(6, device='cuda:0')), (tensor(6, device='cuda:0'), tensor(6, device='cuda:0')), (tensor(2, device='cuda:0'), tensor(2, device='cuda:0')), (tensor(0, device='cuda:0'), tensor(0, device='cuda:0')), (tensor(4, device='cuda:0'), tensor(4, device='cuda:0')), (tensor(3, device='cuda:0'), tensor(3, device='cuda:0')), (tensor(0, device='cuda:0'), tensor(0, device='cuda:0')), (tensor(6, device='cuda:0'), tensor(6, device='cuda:0')), (tensor(3, device='cuda:0'), tensor(3, device='cuda:0')), (tensor(3, device='cuda:0'), tensor(3, device='cuda:0')), (tensor(3, device='cuda:0'), tensor(3, device='cuda:0')), (tensor(3, device='cuda:0'), tensor(3, device='cuda:0')), (tensor(3, device='cuda:0'), tensor(3, device='cuda:0')), (tensor(6, device='cuda:0'), tensor(6, device='cuda:0')), (tensor(0, device='cuda:0'), tensor(0, device='cuda:0')), (tensor(0, device='cuda:0'), tensor(0, device='cuda:0')), (tensor(0, device='cuda:0'), tensor(0, device='cuda:0')), (tensor(6, device='cuda:0'), tensor(6, device='cuda:0')), (tensor(4, device='cuda:0'), tensor(4, device='cuda:0')), (tensor(3, device='cuda:0'), tensor(3, device='cuda:0')), (tensor(4, device='cuda:0'), tensor(4, device='cuda:0')), (tensor(5, device='cuda:0'), tensor(5, device='cuda:0')), (tensor(3, device='cuda:0'), tensor(3, device='cuda:0')), (tensor(0, device='cuda:0'), tensor(0, device='cuda:0')), (tensor(3, device='cuda:0'), tensor(3, device='cuda:0')), (tensor(6, device='cuda:0'), tensor(6, device='cuda:0')), (tensor(0, device='cuda:0'), tensor(0, device='cuda:0')), (tensor(0, device='cuda:0'), tensor(0, device='cuda:0')), (tensor(4, device='cuda:0'), tensor(4, device='cuda:0')), (tensor(6, device='cuda:0'), tensor(6, device='cuda:0')), (tensor(1, device='cuda:0'), tensor(1, device='cuda:0')), (tensor(4, device='cuda:0'), tensor(4, device='cuda:0')), (tensor(3, device='cuda:0'), tensor(3, device='cuda:0')), (tensor(4, device='cuda:0'), tensor(4, device='cuda:0')), (tensor(3, device='cuda:0'), tensor(3, device='cuda:0')), (tensor(6, device='cuda:0'), tensor(1, device='cuda:0')), (tensor(1, device='cuda:0'), tensor(1, device='cuda:0')), (tensor(4, device='cuda:0'), tensor(4, device='cuda:0')), (tensor(6, device='cuda:0'), tensor(6, device='cuda:0')), (tensor(6, device='cuda:0'), tensor(6, device='cuda:0')), (tensor(3, device='cuda:0'), tensor(3, device='cuda:0')), (tensor(0, device='cuda:0'), tensor(0, device='cuda:0')), (tensor(1, device='cuda:0'), tensor(1, device='cuda:0')), (tensor(2, device='cuda:0'), tensor(2, device='cuda:0')), (tensor(2, device='cuda:0'), tensor(2, device='cuda:0')), (tensor(3, device='cuda:0'), tensor(3, device='cuda:0')), (tensor(5, device='cuda:0'), tensor(5, device='cuda:0')), (tensor(1, device='cuda:0'), tensor(1, device='cuda:0')), (tensor(1, device='cuda:0'), tensor(1, device='cuda:0')), (tensor(4, device='cuda:0'), tensor(4, device='cuda:0')), (tensor(0, device='cuda:0'), tensor(0, device='cuda:0')), (tensor(0, device='cuda:0'), tensor(0, device='cuda:0')), (tensor(6, device='cuda:0'), tensor(6, device='cuda:0')), (tensor(3, device='cuda:0'), tensor(3, device='cuda:0')), (tensor(3, device='cuda:0'), tensor(3, device='cuda:0')), (tensor(5, device='cuda:0'), tensor(5, device='cuda:0')), (tensor(5, device='cuda:0'), tensor(5, device='cuda:0')), (tensor(3, device='cuda:0'), tensor(3, device='cuda:0')), (tensor(6, device='cuda:0'), tensor(6, device='cuda:0')), (tensor(5, device='cuda:0'), tensor(5, device='cuda:0')), (tensor(3, device='cuda:0'), tensor(3, device='cuda:0')), (tensor(4, device='cuda:0'), tensor(4, device='cuda:0')), (tensor(1, device='cuda:0'), tensor(1, device='cuda:0')), (tensor(0, device='cuda:0'), tensor(0, device='cuda:0')), (tensor(4, device='cuda:0'), tensor(4, device='cuda:0')), (tensor(5, device='cuda:0'), tensor(5, device='cuda:0')), (tensor(2, device='cuda:0'), tensor(2, device='cuda:0')), (tensor(4, device='cuda:0'), tensor(4, device='cuda:0')), (tensor(4, device='cuda:0'), tensor(4, device='cuda:0')), (tensor(2, device='cuda:0'), tensor(2, device='cuda:0')), (tensor(3, device='cuda:0'), tensor(3, device='cuda:0')), (tensor(3, device='cuda:0'), tensor(3, device='cuda:0'))]\n",
      "[(tensor(0, device='cuda:0'), tensor(0, device='cuda:0')), (tensor(1, device='cuda:0'), tensor(1, device='cuda:0')), (tensor(0, device='cuda:0'), tensor(0, device='cuda:0')), (tensor(6, device='cuda:0'), tensor(0, device='cuda:0')), (tensor(4, device='cuda:0'), tensor(4, device='cuda:0')), (tensor(6, device='cuda:0'), tensor(6, device='cuda:0')), (tensor(4, device='cuda:0'), tensor(4, device='cuda:0')), (tensor(3, device='cuda:0'), tensor(3, device='cuda:0')), (tensor(3, device='cuda:0'), tensor(3, device='cuda:0')), (tensor(4, device='cuda:0'), tensor(4, device='cuda:0')), (tensor(1, device='cuda:0'), tensor(1, device='cuda:0')), (tensor(3, device='cuda:0'), tensor(3, device='cuda:0')), (tensor(4, device='cuda:0'), tensor(4, device='cuda:0')), (tensor(4, device='cuda:0'), tensor(4, device='cuda:0')), (tensor(3, device='cuda:0'), tensor(3, device='cuda:0')), (tensor(0, device='cuda:0'), tensor(0, device='cuda:0')), (tensor(6, device='cuda:0'), tensor(6, device='cuda:0')), (tensor(0, device='cuda:0'), tensor(0, device='cuda:0')), (tensor(4, device='cuda:0'), tensor(4, device='cuda:0')), (tensor(6, device='cuda:0'), tensor(6, device='cuda:0')), (tensor(5, device='cuda:0'), tensor(5, device='cuda:0')), (tensor(4, device='cuda:0'), tensor(4, device='cuda:0')), (tensor(4, device='cuda:0'), tensor(4, device='cuda:0')), (tensor(1, device='cuda:0'), tensor(1, device='cuda:0')), (tensor(6, device='cuda:0'), tensor(6, device='cuda:0')), (tensor(3, device='cuda:0'), tensor(3, device='cuda:0')), (tensor(5, device='cuda:0'), tensor(5, device='cuda:0')), (tensor(2, device='cuda:0'), tensor(2, device='cuda:0')), (tensor(3, device='cuda:0'), tensor(3, device='cuda:0')), (tensor(4, device='cuda:0'), tensor(4, device='cuda:0')), (tensor(5, device='cuda:0'), tensor(5, device='cuda:0')), (tensor(4, device='cuda:0'), tensor(4, device='cuda:0')), (tensor(3, device='cuda:0'), tensor(3, device='cuda:0')), (tensor(4, device='cuda:0'), tensor(4, device='cuda:0')), (tensor(0, device='cuda:0'), tensor(0, device='cuda:0')), (tensor(0, device='cuda:0'), tensor(0, device='cuda:0')), (tensor(6, device='cuda:0'), tensor(6, device='cuda:0')), (tensor(4, device='cuda:0'), tensor(4, device='cuda:0')), (tensor(3, device='cuda:0'), tensor(3, device='cuda:0')), (tensor(0, device='cuda:0'), tensor(0, device='cuda:0')), (tensor(4, device='cuda:0'), tensor(4, device='cuda:0')), (tensor(4, device='cuda:0'), tensor(4, device='cuda:0')), (tensor(4, device='cuda:0'), tensor(4, device='cuda:0')), (tensor(3, device='cuda:0'), tensor(3, device='cuda:0')), (tensor(3, device='cuda:0'), tensor(3, device='cuda:0')), (tensor(0, device='cuda:0'), tensor(0, device='cuda:0')), (tensor(0, device='cuda:0'), tensor(0, device='cuda:0')), (tensor(3, device='cuda:0'), tensor(3, device='cuda:0')), (tensor(3, device='cuda:0'), tensor(3, device='cuda:0')), (tensor(0, device='cuda:0'), tensor(0, device='cuda:0')), (tensor(6, device='cuda:0'), tensor(6, device='cuda:0')), (tensor(6, device='cuda:0'), tensor(6, device='cuda:0')), (tensor(6, device='cuda:0'), tensor(6, device='cuda:0')), (tensor(3, device='cuda:0'), tensor(3, device='cuda:0')), (tensor(3, device='cuda:0'), tensor(3, device='cuda:0')), (tensor(3, device='cuda:0'), tensor(3, device='cuda:0')), (tensor(4, device='cuda:0'), tensor(4, device='cuda:0')), (tensor(5, device='cuda:0'), tensor(5, device='cuda:0')), (tensor(4, device='cuda:0'), tensor(4, device='cuda:0')), (tensor(5, device='cuda:0'), tensor(5, device='cuda:0')), (tensor(4, device='cuda:0'), tensor(4, device='cuda:0')), (tensor(4, device='cuda:0'), tensor(4, device='cuda:0')), (tensor(3, device='cuda:0'), tensor(3, device='cuda:0')), (tensor(4, device='cuda:0'), tensor(5, device='cuda:0')), (tensor(4, device='cuda:0'), tensor(4, device='cuda:0')), (tensor(0, device='cuda:0'), tensor(0, device='cuda:0')), (tensor(0, device='cuda:0'), tensor(0, device='cuda:0')), (tensor(4, device='cuda:0'), tensor(4, device='cuda:0')), (tensor(6, device='cuda:0'), tensor(6, device='cuda:0')), (tensor(3, device='cuda:0'), tensor(3, device='cuda:0')), (tensor(3, device='cuda:0'), tensor(3, device='cuda:0')), (tensor(4, device='cuda:0'), tensor(4, device='cuda:0')), (tensor(3, device='cuda:0'), tensor(3, device='cuda:0')), (tensor(4, device='cuda:0'), tensor(4, device='cuda:0')), (tensor(6, device='cuda:0'), tensor(6, device='cuda:0')), (tensor(6, device='cuda:0'), tensor(6, device='cuda:0')), (tensor(3, device='cuda:0'), tensor(3, device='cuda:0')), (tensor(6, device='cuda:0'), tensor(6, device='cuda:0')), (tensor(1, device='cuda:0'), tensor(1, device='cuda:0')), (tensor(3, device='cuda:0'), tensor(3, device='cuda:0')), (tensor(6, device='cuda:0'), tensor(6, device='cuda:0')), (tensor(3, device='cuda:0'), tensor(3, device='cuda:0')), (tensor(0, device='cuda:0'), tensor(0, device='cuda:0')), (tensor(6, device='cuda:0'), tensor(6, device='cuda:0')), (tensor(3, device='cuda:0'), tensor(3, device='cuda:0')), (tensor(4, device='cuda:0'), tensor(4, device='cuda:0')), (tensor(0, device='cuda:0'), tensor(0, device='cuda:0')), (tensor(4, device='cuda:0'), tensor(4, device='cuda:0')), (tensor(3, device='cuda:0'), tensor(3, device='cuda:0')), (tensor(4, device='cuda:0'), tensor(4, device='cuda:0')), (tensor(0, device='cuda:0'), tensor(0, device='cuda:0')), (tensor(4, device='cuda:0'), tensor(4, device='cuda:0')), (tensor(3, device='cuda:0'), tensor(3, device='cuda:0')), (tensor(1, device='cuda:0'), tensor(1, device='cuda:0')), (tensor(0, device='cuda:0'), tensor(0, device='cuda:0')), (tensor(4, device='cuda:0'), tensor(4, device='cuda:0')), (tensor(3, device='cuda:0'), tensor(3, device='cuda:0')), (tensor(0, device='cuda:0'), tensor(0, device='cuda:0')), (tensor(6, device='cuda:0'), tensor(6, device='cuda:0')), (tensor(1, device='cuda:0'), tensor(1, device='cuda:0')), (tensor(3, device='cuda:0'), tensor(3, device='cuda:0')), (tensor(6, device='cuda:0'), tensor(6, device='cuda:0')), (tensor(3, device='cuda:0'), tensor(3, device='cuda:0')), (tensor(3, device='cuda:0'), tensor(3, device='cuda:0')), (tensor(4, device='cuda:0'), tensor(4, device='cuda:0')), (tensor(6, device='cuda:0'), tensor(6, device='cuda:0')), (tensor(0, device='cuda:0'), tensor(0, device='cuda:0')), (tensor(0, device='cuda:0'), tensor(0, device='cuda:0')), (tensor(3, device='cuda:0'), tensor(3, device='cuda:0')), (tensor(4, device='cuda:0'), tensor(4, device='cuda:0')), (tensor(4, device='cuda:0'), tensor(5, device='cuda:0')), (tensor(3, device='cuda:0'), tensor(3, device='cuda:0')), (tensor(3, device='cuda:0'), tensor(3, device='cuda:0')), (tensor(6, device='cuda:0'), tensor(6, device='cuda:0')), (tensor(4, device='cuda:0'), tensor(4, device='cuda:0')), (tensor(3, device='cuda:0'), tensor(3, device='cuda:0')), (tensor(6, device='cuda:0'), tensor(6, device='cuda:0')), (tensor(4, device='cuda:0'), tensor(4, device='cuda:0')), (tensor(3, device='cuda:0'), tensor(3, device='cuda:0')), (tensor(6, device='cuda:0'), tensor(6, device='cuda:0')), (tensor(0, device='cuda:0'), tensor(0, device='cuda:0')), (tensor(0, device='cuda:0'), tensor(0, device='cuda:0')), (tensor(5, device='cuda:0'), tensor(5, device='cuda:0')), (tensor(3, device='cuda:0'), tensor(3, device='cuda:0')), (tensor(1, device='cuda:0'), tensor(1, device='cuda:0')), (tensor(4, device='cuda:0'), tensor(4, device='cuda:0')), (tensor(6, device='cuda:0'), tensor(6, device='cuda:0')), (tensor(4, device='cuda:0'), tensor(4, device='cuda:0')), (tensor(3, device='cuda:0'), tensor(3, device='cuda:0'))]\n",
      "[(tensor(6, device='cuda:0'), tensor(6, device='cuda:0')), (tensor(4, device='cuda:0'), tensor(4, device='cuda:0')), (tensor(4, device='cuda:0'), tensor(4, device='cuda:0')), (tensor(0, device='cuda:0'), tensor(0, device='cuda:0')), (tensor(6, device='cuda:0'), tensor(6, device='cuda:0')), (tensor(6, device='cuda:0'), tensor(6, device='cuda:0')), (tensor(3, device='cuda:0'), tensor(3, device='cuda:0')), (tensor(4, device='cuda:0'), tensor(4, device='cuda:0')), (tensor(3, device='cuda:0'), tensor(3, device='cuda:0')), (tensor(4, device='cuda:0'), tensor(4, device='cuda:0')), (tensor(2, device='cuda:0'), tensor(2, device='cuda:0')), (tensor(6, device='cuda:0'), tensor(6, device='cuda:0')), (tensor(6, device='cuda:0'), tensor(6, device='cuda:0')), (tensor(3, device='cuda:0'), tensor(3, device='cuda:0')), (tensor(5, device='cuda:0'), tensor(4, device='cuda:0')), (tensor(3, device='cuda:0'), tensor(3, device='cuda:0')), (tensor(6, device='cuda:0'), tensor(6, device='cuda:0')), (tensor(0, device='cuda:0'), tensor(0, device='cuda:0')), (tensor(0, device='cuda:0'), tensor(0, device='cuda:0')), (tensor(4, device='cuda:0'), tensor(4, device='cuda:0')), (tensor(1, device='cuda:0'), tensor(1, device='cuda:0')), (tensor(4, device='cuda:0'), tensor(4, device='cuda:0')), (tensor(4, device='cuda:0'), tensor(4, device='cuda:0')), (tensor(0, device='cuda:0'), tensor(0, device='cuda:0')), (tensor(2, device='cuda:0'), tensor(2, device='cuda:0')), (tensor(6, device='cuda:0'), tensor(6, device='cuda:0')), (tensor(4, device='cuda:0'), tensor(4, device='cuda:0')), (tensor(3, device='cuda:0'), tensor(3, device='cuda:0')), (tensor(6, device='cuda:0'), tensor(6, device='cuda:0')), (tensor(4, device='cuda:0'), tensor(4, device='cuda:0')), (tensor(3, device='cuda:0'), tensor(3, device='cuda:0')), (tensor(3, device='cuda:0'), tensor(3, device='cuda:0')), (tensor(5, device='cuda:0'), tensor(5, device='cuda:0')), (tensor(4, device='cuda:0'), tensor(4, device='cuda:0')), (tensor(2, device='cuda:0'), tensor(2, device='cuda:0')), (tensor(1, device='cuda:0'), tensor(1, device='cuda:0')), (tensor(4, device='cuda:0'), tensor(4, device='cuda:0')), (tensor(0, device='cuda:0'), tensor(0, device='cuda:0')), (tensor(3, device='cuda:0'), tensor(3, device='cuda:0')), (tensor(4, device='cuda:0'), tensor(4, device='cuda:0')), (tensor(3, device='cuda:0'), tensor(3, device='cuda:0')), (tensor(3, device='cuda:0'), tensor(3, device='cuda:0')), (tensor(5, device='cuda:0'), tensor(5, device='cuda:0')), (tensor(6, device='cuda:0'), tensor(6, device='cuda:0')), (tensor(6, device='cuda:0'), tensor(6, device='cuda:0')), (tensor(6, device='cuda:0'), tensor(6, device='cuda:0')), (tensor(0, device='cuda:0'), tensor(0, device='cuda:0')), (tensor(1, device='cuda:0'), tensor(1, device='cuda:0')), (tensor(6, device='cuda:0'), tensor(6, device='cuda:0')), (tensor(0, device='cuda:0'), tensor(0, device='cuda:0')), (tensor(6, device='cuda:0'), tensor(6, device='cuda:0')), (tensor(4, device='cuda:0'), tensor(4, device='cuda:0')), (tensor(3, device='cuda:0'), tensor(3, device='cuda:0')), (tensor(4, device='cuda:0'), tensor(4, device='cuda:0')), (tensor(2, device='cuda:0'), tensor(2, device='cuda:0')), (tensor(0, device='cuda:0'), tensor(0, device='cuda:0')), (tensor(6, device='cuda:0'), tensor(6, device='cuda:0')), (tensor(4, device='cuda:0'), tensor(4, device='cuda:0')), (tensor(5, device='cuda:0'), tensor(5, device='cuda:0')), (tensor(0, device='cuda:0'), tensor(1, device='cuda:0')), (tensor(1, device='cuda:0'), tensor(1, device='cuda:0')), (tensor(4, device='cuda:0'), tensor(4, device='cuda:0')), (tensor(0, device='cuda:0'), tensor(0, device='cuda:0')), (tensor(3, device='cuda:0'), tensor(3, device='cuda:0')), (tensor(5, device='cuda:0'), tensor(5, device='cuda:0')), (tensor(3, device='cuda:0'), tensor(3, device='cuda:0')), (tensor(4, device='cuda:0'), tensor(4, device='cuda:0')), (tensor(3, device='cuda:0'), tensor(3, device='cuda:0')), (tensor(3, device='cuda:0'), tensor(3, device='cuda:0')), (tensor(6, device='cuda:0'), tensor(6, device='cuda:0')), (tensor(3, device='cuda:0'), tensor(3, device='cuda:0')), (tensor(4, device='cuda:0'), tensor(4, device='cuda:0')), (tensor(1, device='cuda:0'), tensor(1, device='cuda:0')), (tensor(0, device='cuda:0'), tensor(0, device='cuda:0')), (tensor(4, device='cuda:0'), tensor(4, device='cuda:0')), (tensor(2, device='cuda:0'), tensor(2, device='cuda:0')), (tensor(6, device='cuda:0'), tensor(6, device='cuda:0')), (tensor(0, device='cuda:0'), tensor(0, device='cuda:0')), (tensor(4, device='cuda:0'), tensor(4, device='cuda:0')), (tensor(3, device='cuda:0'), tensor(3, device='cuda:0')), (tensor(3, device='cuda:0'), tensor(3, device='cuda:0')), (tensor(3, device='cuda:0'), tensor(3, device='cuda:0')), (tensor(0, device='cuda:0'), tensor(0, device='cuda:0')), (tensor(3, device='cuda:0'), tensor(3, device='cuda:0')), (tensor(3, device='cuda:0'), tensor(3, device='cuda:0')), (tensor(6, device='cuda:0'), tensor(6, device='cuda:0')), (tensor(6, device='cuda:0'), tensor(0, device='cuda:0')), (tensor(6, device='cuda:0'), tensor(6, device='cuda:0')), (tensor(6, device='cuda:0'), tensor(6, device='cuda:0')), (tensor(1, device='cuda:0'), tensor(1, device='cuda:0')), (tensor(3, device='cuda:0'), tensor(3, device='cuda:0')), (tensor(3, device='cuda:0'), tensor(3, device='cuda:0')), (tensor(0, device='cuda:0'), tensor(0, device='cuda:0')), (tensor(4, device='cuda:0'), tensor(4, device='cuda:0')), (tensor(0, device='cuda:0'), tensor(0, device='cuda:0')), (tensor(5, device='cuda:0'), tensor(5, device='cuda:0')), (tensor(0, device='cuda:0'), tensor(0, device='cuda:0')), (tensor(6, device='cuda:0'), tensor(6, device='cuda:0')), (tensor(3, device='cuda:0'), tensor(3, device='cuda:0')), (tensor(3, device='cuda:0'), tensor(3, device='cuda:0')), (tensor(3, device='cuda:0'), tensor(3, device='cuda:0')), (tensor(4, device='cuda:0'), tensor(4, device='cuda:0')), (tensor(3, device='cuda:0'), tensor(3, device='cuda:0')), (tensor(3, device='cuda:0'), tensor(3, device='cuda:0')), (tensor(2, device='cuda:0'), tensor(2, device='cuda:0')), (tensor(3, device='cuda:0'), tensor(3, device='cuda:0')), (tensor(6, device='cuda:0'), tensor(6, device='cuda:0')), (tensor(2, device='cuda:0'), tensor(2, device='cuda:0')), (tensor(4, device='cuda:0'), tensor(4, device='cuda:0')), (tensor(0, device='cuda:0'), tensor(4, device='cuda:0')), (tensor(4, device='cuda:0'), tensor(4, device='cuda:0')), (tensor(3, device='cuda:0'), tensor(3, device='cuda:0')), (tensor(3, device='cuda:0'), tensor(3, device='cuda:0')), (tensor(0, device='cuda:0'), tensor(0, device='cuda:0')), (tensor(3, device='cuda:0'), tensor(3, device='cuda:0')), (tensor(6, device='cuda:0'), tensor(6, device='cuda:0')), (tensor(4, device='cuda:0'), tensor(4, device='cuda:0')), (tensor(6, device='cuda:0'), tensor(6, device='cuda:0')), (tensor(6, device='cuda:0'), tensor(6, device='cuda:0')), (tensor(0, device='cuda:0'), tensor(0, device='cuda:0')), (tensor(6, device='cuda:0'), tensor(6, device='cuda:0')), (tensor(1, device='cuda:0'), tensor(1, device='cuda:0')), (tensor(2, device='cuda:0'), tensor(2, device='cuda:0')), (tensor(3, device='cuda:0'), tensor(3, device='cuda:0')), (tensor(4, device='cuda:0'), tensor(3, device='cuda:0')), (tensor(3, device='cuda:0'), tensor(3, device='cuda:0')), (tensor(3, device='cuda:0'), tensor(3, device='cuda:0')), (tensor(6, device='cuda:0'), tensor(6, device='cuda:0')), (tensor(3, device='cuda:0'), tensor(3, device='cuda:0'))]\n",
      "[(tensor(3, device='cuda:0'), tensor(3, device='cuda:0')), (tensor(0, device='cuda:0'), tensor(0, device='cuda:0')), (tensor(4, device='cuda:0'), tensor(4, device='cuda:0')), (tensor(1, device='cuda:0'), tensor(1, device='cuda:0')), (tensor(6, device='cuda:0'), tensor(6, device='cuda:0')), (tensor(5, device='cuda:0'), tensor(5, device='cuda:0')), (tensor(5, device='cuda:0'), tensor(5, device='cuda:0')), (tensor(2, device='cuda:0'), tensor(2, device='cuda:0')), (tensor(3, device='cuda:0'), tensor(3, device='cuda:0')), (tensor(3, device='cuda:0'), tensor(3, device='cuda:0')), (tensor(2, device='cuda:0'), tensor(2, device='cuda:0')), (tensor(6, device='cuda:0'), tensor(6, device='cuda:0')), (tensor(6, device='cuda:0'), tensor(6, device='cuda:0')), (tensor(3, device='cuda:0'), tensor(3, device='cuda:0')), (tensor(5, device='cuda:0'), tensor(5, device='cuda:0')), (tensor(3, device='cuda:0'), tensor(3, device='cuda:0')), (tensor(3, device='cuda:0'), tensor(3, device='cuda:0')), (tensor(3, device='cuda:0'), tensor(3, device='cuda:0')), (tensor(4, device='cuda:0'), tensor(4, device='cuda:0')), (tensor(6, device='cuda:0'), tensor(6, device='cuda:0')), (tensor(0, device='cuda:0'), tensor(0, device='cuda:0')), (tensor(3, device='cuda:0'), tensor(3, device='cuda:0')), (tensor(4, device='cuda:0'), tensor(4, device='cuda:0')), (tensor(4, device='cuda:0'), tensor(4, device='cuda:0')), (tensor(3, device='cuda:0'), tensor(3, device='cuda:0')), (tensor(1, device='cuda:0'), tensor(1, device='cuda:0')), (tensor(0, device='cuda:0'), tensor(0, device='cuda:0')), (tensor(2, device='cuda:0'), tensor(2, device='cuda:0')), (tensor(6, device='cuda:0'), tensor(6, device='cuda:0')), (tensor(3, device='cuda:0'), tensor(3, device='cuda:0')), (tensor(4, device='cuda:0'), tensor(4, device='cuda:0')), (tensor(4, device='cuda:0'), tensor(4, device='cuda:0')), (tensor(6, device='cuda:0'), tensor(0, device='cuda:0')), (tensor(3, device='cuda:0'), tensor(3, device='cuda:0')), (tensor(3, device='cuda:0'), tensor(3, device='cuda:0')), (tensor(6, device='cuda:0'), tensor(6, device='cuda:0')), (tensor(4, device='cuda:0'), tensor(2, device='cuda:0')), (tensor(4, device='cuda:0'), tensor(4, device='cuda:0')), (tensor(3, device='cuda:0'), tensor(3, device='cuda:0')), (tensor(4, device='cuda:0'), tensor(4, device='cuda:0')), (tensor(3, device='cuda:0'), tensor(3, device='cuda:0')), (tensor(3, device='cuda:0'), tensor(3, device='cuda:0')), (tensor(4, device='cuda:0'), tensor(4, device='cuda:0')), (tensor(6, device='cuda:0'), tensor(6, device='cuda:0')), (tensor(1, device='cuda:0'), tensor(1, device='cuda:0')), (tensor(1, device='cuda:0'), tensor(1, device='cuda:0')), (tensor(3, device='cuda:0'), tensor(3, device='cuda:0')), (tensor(0, device='cuda:0'), tensor(0, device='cuda:0')), (tensor(0, device='cuda:0'), tensor(0, device='cuda:0')), (tensor(3, device='cuda:0'), tensor(3, device='cuda:0')), (tensor(1, device='cuda:0'), tensor(1, device='cuda:0')), (tensor(5, device='cuda:0'), tensor(5, device='cuda:0')), (tensor(4, device='cuda:0'), tensor(4, device='cuda:0')), (tensor(4, device='cuda:0'), tensor(4, device='cuda:0')), (tensor(3, device='cuda:0'), tensor(3, device='cuda:0')), (tensor(1, device='cuda:0'), tensor(4, device='cuda:0')), (tensor(3, device='cuda:0'), tensor(3, device='cuda:0')), (tensor(0, device='cuda:0'), tensor(0, device='cuda:0')), (tensor(3, device='cuda:0'), tensor(3, device='cuda:0')), (tensor(2, device='cuda:0'), tensor(2, device='cuda:0')), (tensor(4, device='cuda:0'), tensor(4, device='cuda:0')), (tensor(3, device='cuda:0'), tensor(3, device='cuda:0')), (tensor(3, device='cuda:0'), tensor(3, device='cuda:0')), (tensor(4, device='cuda:0'), tensor(4, device='cuda:0')), (tensor(2, device='cuda:0'), tensor(2, device='cuda:0')), (tensor(3, device='cuda:0'), tensor(3, device='cuda:0')), (tensor(5, device='cuda:0'), tensor(5, device='cuda:0')), (tensor(0, device='cuda:0'), tensor(0, device='cuda:0')), (tensor(3, device='cuda:0'), tensor(3, device='cuda:0')), (tensor(0, device='cuda:0'), tensor(0, device='cuda:0')), (tensor(0, device='cuda:0'), tensor(0, device='cuda:0')), (tensor(1, device='cuda:0'), tensor(1, device='cuda:0')), (tensor(1, device='cuda:0'), tensor(1, device='cuda:0')), (tensor(3, device='cuda:0'), tensor(3, device='cuda:0')), (tensor(3, device='cuda:0'), tensor(3, device='cuda:0')), (tensor(1, device='cuda:0'), tensor(1, device='cuda:0')), (tensor(5, device='cuda:0'), tensor(5, device='cuda:0')), (tensor(4, device='cuda:0'), tensor(4, device='cuda:0')), (tensor(0, device='cuda:0'), tensor(0, device='cuda:0')), (tensor(3, device='cuda:0'), tensor(3, device='cuda:0')), (tensor(2, device='cuda:0'), tensor(2, device='cuda:0')), (tensor(6, device='cuda:0'), tensor(6, device='cuda:0')), (tensor(3, device='cuda:0'), tensor(3, device='cuda:0')), (tensor(5, device='cuda:0'), tensor(5, device='cuda:0')), (tensor(3, device='cuda:0'), tensor(3, device='cuda:0')), (tensor(4, device='cuda:0'), tensor(4, device='cuda:0')), (tensor(3, device='cuda:0'), tensor(3, device='cuda:0')), (tensor(0, device='cuda:0'), tensor(0, device='cuda:0')), (tensor(4, device='cuda:0'), tensor(4, device='cuda:0')), (tensor(0, device='cuda:0'), tensor(0, device='cuda:0')), (tensor(2, device='cuda:0'), tensor(2, device='cuda:0')), (tensor(0, device='cuda:0'), tensor(0, device='cuda:0')), (tensor(3, device='cuda:0'), tensor(3, device='cuda:0')), (tensor(3, device='cuda:0'), tensor(3, device='cuda:0')), (tensor(3, device='cuda:0'), tensor(3, device='cuda:0')), (tensor(4, device='cuda:0'), tensor(4, device='cuda:0')), (tensor(5, device='cuda:0'), tensor(5, device='cuda:0')), (tensor(4, device='cuda:0'), tensor(4, device='cuda:0')), (tensor(4, device='cuda:0'), tensor(4, device='cuda:0')), (tensor(3, device='cuda:0'), tensor(3, device='cuda:0')), (tensor(3, device='cuda:0'), tensor(3, device='cuda:0')), (tensor(6, device='cuda:0'), tensor(6, device='cuda:0')), (tensor(4, device='cuda:0'), tensor(4, device='cuda:0')), (tensor(3, device='cuda:0'), tensor(3, device='cuda:0')), (tensor(4, device='cuda:0'), tensor(4, device='cuda:0')), (tensor(0, device='cuda:0'), tensor(0, device='cuda:0')), (tensor(4, device='cuda:0'), tensor(4, device='cuda:0')), (tensor(0, device='cuda:0'), tensor(6, device='cuda:0')), (tensor(0, device='cuda:0'), tensor(2, device='cuda:0')), (tensor(4, device='cuda:0'), tensor(4, device='cuda:0')), (tensor(1, device='cuda:0'), tensor(1, device='cuda:0')), (tensor(0, device='cuda:0'), tensor(0, device='cuda:0')), (tensor(6, device='cuda:0'), tensor(6, device='cuda:0')), (tensor(2, device='cuda:0'), tensor(2, device='cuda:0')), (tensor(4, device='cuda:0'), tensor(4, device='cuda:0')), (tensor(5, device='cuda:0'), tensor(5, device='cuda:0')), (tensor(2, device='cuda:0'), tensor(2, device='cuda:0')), (tensor(6, device='cuda:0'), tensor(6, device='cuda:0')), (tensor(4, device='cuda:0'), tensor(1, device='cuda:0')), (tensor(4, device='cuda:0'), tensor(4, device='cuda:0')), (tensor(0, device='cuda:0'), tensor(0, device='cuda:0')), (tensor(4, device='cuda:0'), tensor(4, device='cuda:0')), (tensor(4, device='cuda:0'), tensor(4, device='cuda:0')), (tensor(6, device='cuda:0'), tensor(6, device='cuda:0'))]\n",
      "Test accuracy is: 0.9643411040306091\n"
     ]
    }
   ],
   "source": [
    "test_correct = 0\n",
    "test_total = 0\n",
    "test_mcc = 0\n",
    "for inputs, labels, in test_loader:\n",
    "    inputs = inputs.to(device)\n",
    "    labels = labels.to(device)\n",
    "    output = model(inputs)\n",
    "    test_correct += (output.softmax(dim=1).argmax(dim=1) == labels).sum()\n",
    "    test_total += len(test)\n",
    "    test_mcc = mcc(labels.to(\"cpu\"), output.softmax(dim=1).argmax(dim=1).to(\"cpu\"))\n",
    "    print(list(zip(output.softmax(dim=1).argmax(dim=1),labels)))\n",
    "print(f\"Test accuracy is: {test_correct/test_total}\")\n"
   ]
  },
  {
   "cell_type": "code",
   "execution_count": null,
   "metadata": {},
   "outputs": [],
   "source": [
    "print(zip(output.softmax(dim=1).argmax(dim=1),labels))"
   ]
  },
  {
   "cell_type": "code",
   "execution_count": 215,
   "metadata": {},
   "outputs": [
    {
     "data": {
      "application/vnd.jupyter.widget-view+json": {
       "model_id": "d413c7dfe85840818128f2f3c0859f39",
       "version_major": 2,
       "version_minor": 0
      },
      "text/plain": [
       "VBox(children=(Label(value='0.001 MB of 0.002 MB uploaded\\r'), FloatProgress(value=0.6961950059453033, max=1.0…"
      ]
     },
     "metadata": {},
     "output_type": "display_data"
    },
    {
     "data": {
      "text/html": [
       "<style>\n",
       "    table.wandb td:nth-child(1) { padding: 0 10px; text-align: left ; width: auto;} td:nth-child(2) {text-align: left ; width: 100%}\n",
       "    .wandb-row { display: flex; flex-direction: row; flex-wrap: wrap; justify-content: flex-start; width: 100% }\n",
       "    .wandb-col { display: flex; flex-direction: column; flex-basis: 100%; flex: 1; padding: 10px; }\n",
       "    </style>\n",
       "<div class=\"wandb-row\"><div class=\"wandb-col\"><h3>Run history:</h3><br/><table class=\"wandb\"><tr><td>test_acc</td><td>▁</td></tr><tr><td>test_mcc</td><td>▁</td></tr></table><br/></div><div class=\"wandb-col\"><h3>Run summary:</h3><br/><table class=\"wandb\"><tr><td>test_acc</td><td>0.48405</td></tr><tr><td>test_mcc</td><td>0.98044</td></tr></table><br/></div></div>"
      ],
      "text/plain": [
       "<IPython.core.display.HTML object>"
      ]
     },
     "metadata": {},
     "output_type": "display_data"
    },
    {
     "data": {
      "text/html": [
       " View run <strong style=\"color:#cdcd00\">earnest-shape-16</strong> at: <a href='https://wandb.ai/icm/Furhat%20Coach/runs/omwyxcz8' target=\"_blank\">https://wandb.ai/icm/Furhat%20Coach/runs/omwyxcz8</a><br/>Synced 5 W&B file(s), 0 media file(s), 0 artifact file(s) and 0 other file(s)"
      ],
      "text/plain": [
       "<IPython.core.display.HTML object>"
      ]
     },
     "metadata": {},
     "output_type": "display_data"
    },
    {
     "data": {
      "text/html": [
       "Find logs at: <code>.\\wandb\\run-20231209_050656-omwyxcz8\\logs</code>"
      ],
      "text/plain": [
       "<IPython.core.display.HTML object>"
      ]
     },
     "metadata": {},
     "output_type": "display_data"
    }
   ],
   "source": [
    "wandb.log({\"test_acc\": test_correct/test_total, \"test_mcc\": test_mcc})\n",
    "wandb.finish()"
   ]
  }
 ],
 "metadata": {
  "kernelspec": {
   "display_name": "Python 3",
   "language": "python",
   "name": "python3"
  },
  "language_info": {
   "codemirror_mode": {
    "name": "ipython",
    "version": 3
   },
   "file_extension": ".py",
   "mimetype": "text/x-python",
   "name": "python",
   "nbconvert_exporter": "python",
   "pygments_lexer": "ipython3",
   "version": "3.11.6"
  }
 },
 "nbformat": 4,
 "nbformat_minor": 2
}
